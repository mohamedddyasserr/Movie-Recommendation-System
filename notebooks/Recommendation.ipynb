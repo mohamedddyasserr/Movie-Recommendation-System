{
 "cells": [
  {
   "cell_type": "markdown",
   "source": [
    "# Recommendation\n",
    "\n",
    "## Imports"
   ],
   "metadata": {
    "collapsed": false
   },
   "id": "7c977a2ba242604c"
  },
  {
   "cell_type": "code",
   "execution_count": 1,
   "id": "initial_id",
   "metadata": {
    "collapsed": true,
    "ExecuteTime": {
     "end_time": "2025-08-27T15:54:40.245917200Z",
     "start_time": "2025-08-27T15:54:20.405693200Z"
    }
   },
   "outputs": [
    {
     "name": "stderr",
     "output_type": "stream",
     "text": [
      "\n",
      "A module that was compiled using NumPy 1.x cannot be run in\n",
      "NumPy 2.3.2 as it may crash. To support both 1.x and 2.x\n",
      "versions of NumPy, modules must be compiled with NumPy 2.0.\n",
      "Some module may need to rebuild instead e.g. with 'pybind11>=2.12'.\n",
      "\n",
      "If you are a user of the module, the easiest solution will be to\n",
      "downgrade to 'numpy<2' or try to upgrade the affected module.\n",
      "We expect that some modules will need time to support NumPy 2.\n",
      "\n",
      "Traceback (most recent call last):  File \"<frozen runpy>\", line 198, in _run_module_as_main\n",
      "  File \"<frozen runpy>\", line 88, in _run_code\n",
      "  File \"E:\\pycharm general venv\\GeneralVenv\\.venv\\Lib\\site-packages\\ipykernel_launcher.py\", line 18, in <module>\n",
      "    app.launch_new_instance()\n",
      "  File \"E:\\pycharm general venv\\GeneralVenv\\.venv\\Lib\\site-packages\\traitlets\\config\\application.py\", line 1075, in launch_instance\n",
      "    app.start()\n",
      "  File \"E:\\pycharm general venv\\GeneralVenv\\.venv\\Lib\\site-packages\\ipykernel\\kernelapp.py\", line 739, in start\n",
      "    self.io_loop.start()\n",
      "  File \"E:\\pycharm general venv\\GeneralVenv\\.venv\\Lib\\site-packages\\tornado\\platform\\asyncio.py\", line 211, in start\n",
      "    self.asyncio_loop.run_forever()\n",
      "  File \"C:\\Users\\Mohamed Yasser\\AppData\\Local\\Programs\\Python\\Python311\\Lib\\asyncio\\base_events.py\", line 604, in run_forever\n",
      "    self._run_once()\n",
      "  File \"C:\\Users\\Mohamed Yasser\\AppData\\Local\\Programs\\Python\\Python311\\Lib\\asyncio\\base_events.py\", line 1909, in _run_once\n",
      "    handle._run()\n",
      "  File \"C:\\Users\\Mohamed Yasser\\AppData\\Local\\Programs\\Python\\Python311\\Lib\\asyncio\\events.py\", line 80, in _run\n",
      "    self._context.run(self._callback, *self._args)\n",
      "  File \"E:\\pycharm general venv\\GeneralVenv\\.venv\\Lib\\site-packages\\ipykernel\\kernelbase.py\", line 519, in dispatch_queue\n",
      "    await self.process_one()\n",
      "  File \"E:\\pycharm general venv\\GeneralVenv\\.venv\\Lib\\site-packages\\ipykernel\\kernelbase.py\", line 508, in process_one\n",
      "    await dispatch(*args)\n",
      "  File \"E:\\pycharm general venv\\GeneralVenv\\.venv\\Lib\\site-packages\\ipykernel\\kernelbase.py\", line 400, in dispatch_shell\n",
      "    await result\n",
      "  File \"E:\\pycharm general venv\\GeneralVenv\\.venv\\Lib\\site-packages\\ipykernel\\ipkernel.py\", line 368, in execute_request\n",
      "    await super().execute_request(stream, ident, parent)\n",
      "  File \"E:\\pycharm general venv\\GeneralVenv\\.venv\\Lib\\site-packages\\ipykernel\\kernelbase.py\", line 767, in execute_request\n",
      "    reply_content = await reply_content\n",
      "  File \"E:\\pycharm general venv\\GeneralVenv\\.venv\\Lib\\site-packages\\ipykernel\\ipkernel.py\", line 455, in do_execute\n",
      "    res = shell.run_cell(\n",
      "  File \"E:\\pycharm general venv\\GeneralVenv\\.venv\\Lib\\site-packages\\ipykernel\\zmqshell.py\", line 577, in run_cell\n",
      "    return super().run_cell(*args, **kwargs)\n",
      "  File \"E:\\pycharm general venv\\GeneralVenv\\.venv\\Lib\\site-packages\\IPython\\core\\interactiveshell.py\", line 3116, in run_cell\n",
      "    result = self._run_cell(\n",
      "  File \"E:\\pycharm general venv\\GeneralVenv\\.venv\\Lib\\site-packages\\IPython\\core\\interactiveshell.py\", line 3171, in _run_cell\n",
      "    result = runner(coro)\n",
      "  File \"E:\\pycharm general venv\\GeneralVenv\\.venv\\Lib\\site-packages\\IPython\\core\\async_helpers.py\", line 128, in _pseudo_sync_runner\n",
      "    coro.send(None)\n",
      "  File \"E:\\pycharm general venv\\GeneralVenv\\.venv\\Lib\\site-packages\\IPython\\core\\interactiveshell.py\", line 3394, in run_cell_async\n",
      "    has_raised = await self.run_ast_nodes(code_ast.body, cell_name,\n",
      "  File \"E:\\pycharm general venv\\GeneralVenv\\.venv\\Lib\\site-packages\\IPython\\core\\interactiveshell.py\", line 3639, in run_ast_nodes\n",
      "    if await self.run_code(code, result, async_=asy):\n",
      "  File \"E:\\pycharm general venv\\GeneralVenv\\.venv\\Lib\\site-packages\\IPython\\core\\interactiveshell.py\", line 3699, in run_code\n",
      "    exec(code_obj, self.user_global_ns, self.user_ns)\n",
      "  File \"C:\\Users\\Mohamed Yasser\\AppData\\Local\\Temp\\ipykernel_2920\\1848127529.py\", line 4, in <module>\n",
      "    from surprise import SVD\n",
      "  File \"E:\\pycharm general venv\\GeneralVenv\\.venv\\Lib\\site-packages\\surprise\\__init__.py\", line 6, in <module>\n",
      "    from .prediction_algorithms import (\n",
      "  File \"E:\\pycharm general venv\\GeneralVenv\\.venv\\Lib\\site-packages\\surprise\\prediction_algorithms\\__init__.py\", line 23, in <module>\n",
      "    from .algo_base import AlgoBase\n",
      "  File \"E:\\pycharm general venv\\GeneralVenv\\.venv\\Lib\\site-packages\\surprise\\prediction_algorithms\\algo_base.py\", line 8, in <module>\n",
      "    from .. import similarities as sims\n"
     ]
    },
    {
     "ename": "ImportError",
     "evalue": "numpy.core.multiarray failed to import (auto-generated because you didn't call 'numpy.import_array()' after cimporting numpy; use '<void>numpy._import_array' to disable if you are certain you don't need it).",
     "output_type": "error",
     "traceback": [
      "\u001B[31m---------------------------------------------------------------------------\u001B[39m",
      "\u001B[31mImportError\u001B[39m                               Traceback (most recent call last)",
      "\u001B[36mCell\u001B[39m\u001B[36m \u001B[39m\u001B[32mIn[1]\u001B[39m\u001B[32m, line 4\u001B[39m\n\u001B[32m      2\u001B[39m \u001B[38;5;28;01mimport\u001B[39;00m\u001B[38;5;250m \u001B[39m\u001B[34;01mnumpy\u001B[39;00m\u001B[38;5;250m \u001B[39m\u001B[38;5;28;01mas\u001B[39;00m\u001B[38;5;250m \u001B[39m\u001B[34;01mnp\u001B[39;00m\n\u001B[32m      3\u001B[39m \u001B[38;5;28;01mfrom\u001B[39;00m\u001B[38;5;250m \u001B[39m\u001B[34;01msklearn\u001B[39;00m\u001B[34;01m.\u001B[39;00m\u001B[34;01mmetrics\u001B[39;00m\u001B[34;01m.\u001B[39;00m\u001B[34;01mpairwise\u001B[39;00m\u001B[38;5;250m \u001B[39m\u001B[38;5;28;01mimport\u001B[39;00m cosine_similarity\n\u001B[32m----> \u001B[39m\u001B[32m4\u001B[39m \u001B[38;5;28;01mfrom\u001B[39;00m\u001B[38;5;250m \u001B[39m\u001B[34;01msurprise\u001B[39;00m\u001B[38;5;250m \u001B[39m\u001B[38;5;28;01mimport\u001B[39;00m SVD\n\u001B[32m      5\u001B[39m \u001B[38;5;28;01mimport\u001B[39;00m\u001B[38;5;250m \u001B[39m\u001B[34;01mpickle\u001B[39;00m\n",
      "\u001B[36mFile \u001B[39m\u001B[32mE:\\pycharm general venv\\GeneralVenv\\.venv\\Lib\\site-packages\\surprise\\__init__.py:6\u001B[39m\n\u001B[32m      2\u001B[39m \u001B[38;5;28;01mfrom\u001B[39;00m\u001B[38;5;250m \u001B[39m\u001B[34;01m.\u001B[39;00m\u001B[34;01mbuiltin_datasets\u001B[39;00m\u001B[38;5;250m \u001B[39m\u001B[38;5;28;01mimport\u001B[39;00m get_dataset_dir\n\u001B[32m      4\u001B[39m \u001B[38;5;28;01mfrom\u001B[39;00m\u001B[38;5;250m \u001B[39m\u001B[34;01m.\u001B[39;00m\u001B[34;01mdataset\u001B[39;00m\u001B[38;5;250m \u001B[39m\u001B[38;5;28;01mimport\u001B[39;00m Dataset\n\u001B[32m----> \u001B[39m\u001B[32m6\u001B[39m \u001B[38;5;28;01mfrom\u001B[39;00m\u001B[38;5;250m \u001B[39m\u001B[34;01m.\u001B[39;00m\u001B[34;01mprediction_algorithms\u001B[39;00m\u001B[38;5;250m \u001B[39m\u001B[38;5;28;01mimport\u001B[39;00m (\n\u001B[32m      7\u001B[39m     AlgoBase,\n\u001B[32m      8\u001B[39m     BaselineOnly,\n\u001B[32m      9\u001B[39m     CoClustering,\n\u001B[32m     10\u001B[39m     KNNBaseline,\n\u001B[32m     11\u001B[39m     KNNBasic,\n\u001B[32m     12\u001B[39m     KNNWithMeans,\n\u001B[32m     13\u001B[39m     KNNWithZScore,\n\u001B[32m     14\u001B[39m     NMF,\n\u001B[32m     15\u001B[39m     NormalPredictor,\n\u001B[32m     16\u001B[39m     Prediction,\n\u001B[32m     17\u001B[39m     PredictionImpossible,\n\u001B[32m     18\u001B[39m     SlopeOne,\n\u001B[32m     19\u001B[39m     SVD,\n\u001B[32m     20\u001B[39m     SVDpp,\n\u001B[32m     21\u001B[39m )\n\u001B[32m     22\u001B[39m \u001B[38;5;28;01mfrom\u001B[39;00m\u001B[38;5;250m \u001B[39m\u001B[34;01m.\u001B[39;00m\u001B[34;01mreader\u001B[39;00m\u001B[38;5;250m \u001B[39m\u001B[38;5;28;01mimport\u001B[39;00m Reader\n\u001B[32m     23\u001B[39m \u001B[38;5;28;01mfrom\u001B[39;00m\u001B[38;5;250m \u001B[39m\u001B[34;01m.\u001B[39;00m\u001B[34;01mtrainset\u001B[39;00m\u001B[38;5;250m \u001B[39m\u001B[38;5;28;01mimport\u001B[39;00m Trainset\n",
      "\u001B[36mFile \u001B[39m\u001B[32mE:\\pycharm general venv\\GeneralVenv\\.venv\\Lib\\site-packages\\surprise\\prediction_algorithms\\__init__.py:23\u001B[39m\n\u001B[32m      1\u001B[39m \u001B[33;03m\"\"\"\u001B[39;00m\n\u001B[32m      2\u001B[39m \u001B[33;03mThe :mod:`prediction_algorithms` package includes the prediction algorithms\u001B[39;00m\n\u001B[32m      3\u001B[39m \u001B[33;03mavailable for recommendation.\u001B[39;00m\n\u001B[32m   (...)\u001B[39m\u001B[32m     20\u001B[39m \u001B[33;03m    co_clustering.CoClustering\u001B[39;00m\n\u001B[32m     21\u001B[39m \u001B[33;03m\"\"\"\u001B[39;00m\n\u001B[32m---> \u001B[39m\u001B[32m23\u001B[39m \u001B[38;5;28;01mfrom\u001B[39;00m\u001B[38;5;250m \u001B[39m\u001B[34;01m.\u001B[39;00m\u001B[34;01malgo_base\u001B[39;00m\u001B[38;5;250m \u001B[39m\u001B[38;5;28;01mimport\u001B[39;00m AlgoBase\n\u001B[32m     24\u001B[39m \u001B[38;5;28;01mfrom\u001B[39;00m\u001B[38;5;250m \u001B[39m\u001B[34;01m.\u001B[39;00m\u001B[34;01mbaseline_only\u001B[39;00m\u001B[38;5;250m \u001B[39m\u001B[38;5;28;01mimport\u001B[39;00m BaselineOnly\n\u001B[32m     25\u001B[39m \u001B[38;5;28;01mfrom\u001B[39;00m\u001B[38;5;250m \u001B[39m\u001B[34;01m.\u001B[39;00m\u001B[34;01mco_clustering\u001B[39;00m\u001B[38;5;250m \u001B[39m\u001B[38;5;28;01mimport\u001B[39;00m CoClustering\n",
      "\u001B[36mFile \u001B[39m\u001B[32mE:\\pycharm general venv\\GeneralVenv\\.venv\\Lib\\site-packages\\surprise\\prediction_algorithms\\algo_base.py:8\u001B[39m\n\u001B[32m      1\u001B[39m \u001B[33;03m\"\"\"\u001B[39;00m\n\u001B[32m      2\u001B[39m \u001B[33;03mThe :mod:`surprise.prediction_algorithms.algo_base` module defines the base\u001B[39;00m\n\u001B[32m      3\u001B[39m \u001B[33;03mclass :class:`AlgoBase` from which every single prediction algorithm has to\u001B[39;00m\n\u001B[32m      4\u001B[39m \u001B[33;03minherit.\u001B[39;00m\n\u001B[32m      5\u001B[39m \u001B[33;03m\"\"\"\u001B[39;00m\n\u001B[32m      6\u001B[39m \u001B[38;5;28;01mimport\u001B[39;00m\u001B[38;5;250m \u001B[39m\u001B[34;01mheapq\u001B[39;00m\n\u001B[32m----> \u001B[39m\u001B[32m8\u001B[39m \u001B[38;5;28;01mfrom\u001B[39;00m\u001B[38;5;250m \u001B[39m\u001B[34;01m.\u001B[39;00m\u001B[34;01m.\u001B[39;00m\u001B[38;5;250m \u001B[39m\u001B[38;5;28;01mimport\u001B[39;00m similarities \u001B[38;5;28;01mas\u001B[39;00m sims\n\u001B[32m      9\u001B[39m \u001B[38;5;28;01mfrom\u001B[39;00m\u001B[38;5;250m \u001B[39m\u001B[34;01m.\u001B[39;00m\u001B[34;01moptimize_baselines\u001B[39;00m\u001B[38;5;250m \u001B[39m\u001B[38;5;28;01mimport\u001B[39;00m baseline_als, baseline_sgd\n\u001B[32m     10\u001B[39m \u001B[38;5;28;01mfrom\u001B[39;00m\u001B[38;5;250m \u001B[39m\u001B[34;01m.\u001B[39;00m\u001B[34;01mpredictions\u001B[39;00m\u001B[38;5;250m \u001B[39m\u001B[38;5;28;01mimport\u001B[39;00m Prediction, PredictionImpossible\n",
      "\u001B[36mFile \u001B[39m\u001B[32mE:\\pycharm general venv\\GeneralVenv\\.venv\\Lib\\site-packages\\surprise\\similarities.pyx:1\u001B[39m, in \u001B[36minit surprise.similarities\u001B[39m\u001B[34m()\u001B[39m\n",
      "\u001B[31mImportError\u001B[39m: numpy.core.multiarray failed to import (auto-generated because you didn't call 'numpy.import_array()' after cimporting numpy; use '<void>numpy._import_array' to disable if you are certain you don't need it)."
     ]
    }
   ],
   "source": [
    "import pandas as pd\n",
    "import numpy as np\n",
    "from sklearn.metrics.pairwise import cosine_similarity\n",
    "from surprise import SVD\n",
    "import pickle\n"
   ]
  },
  {
   "cell_type": "markdown",
   "source": [
    "## Load Processed Data"
   ],
   "metadata": {
    "collapsed": false
   },
   "id": "fe0b99b23fc96e73"
  },
  {
   "cell_type": "code",
   "outputs": [],
   "source": [
    "file_path = \"processed_data/movielens_processed.csv\"\n",
    "data = pd.read_csv(file_path)\n",
    "\n",
    "ratings = data[['user_id', 'item_id', 'rating']]\n",
    "ratings_matrix = ratings.pivot_table(index=\"user_id\", columns=\"item_id\", values=\"rating\")\n"
   ],
   "metadata": {
    "collapsed": false,
    "ExecuteTime": {
     "end_time": "2025-08-27T15:55:32.274744700Z",
     "start_time": "2025-08-27T15:55:31.648771900Z"
    }
   },
   "id": "5ed74129a02b84b0",
   "execution_count": 2
  },
  {
   "cell_type": "markdown",
   "source": [
    "## Load or Recompute Models"
   ],
   "metadata": {
    "collapsed": false
   },
   "id": "58f829b60b2d6d1c"
  },
  {
   "cell_type": "code",
   "outputs": [],
   "source": [
    "# User similarity\n",
    "user_sim_matrix = cosine_similarity(ratings_matrix.fillna(0))\n",
    "user_sim_matrix = pd.DataFrame(user_sim_matrix, index=ratings_matrix.index, columns=ratings_matrix.index)\n",
    "\n",
    "# Item similarity\n",
    "item_sim_matrix = cosine_similarity(ratings_matrix.fillna(0).T)\n",
    "item_sim_matrix = pd.DataFrame(item_sim_matrix, index=ratings_matrix.columns, columns=ratings_matrix.columns)\n",
    "\n",
    "\n",
    "\n",
    "\n"
   ],
   "metadata": {
    "collapsed": false,
    "ExecuteTime": {
     "end_time": "2025-08-27T15:58:50.602809500Z",
     "start_time": "2025-08-27T15:58:50.455634400Z"
    }
   },
   "id": "5f02c9689184a5dc",
   "execution_count": 6
  },
  {
   "cell_type": "markdown",
   "source": [
    "## Recommendation Functions"
   ],
   "metadata": {
    "collapsed": false
   },
   "id": "aa59a4abedac270f"
  },
  {
   "cell_type": "code",
   "outputs": [],
   "source": [
    "def recommend_user_cf(user_id, user_sim_matrix, ratings_matrix, n=5):\n",
    "    sims = user_sim_matrix.loc[user_id].drop(user_id)\n",
    "    weighted_ratings = sims @ ratings_matrix.fillna(0).values\n",
    "    preds = pd.Series(weighted_ratings, index=ratings_matrix.columns)\n",
    "    rated_items = ratings_matrix.loc[user_id].dropna().index\n",
    "    preds = preds.drop(rated_items, errors=\"ignore\")\n",
    "    return preds.sort_values(ascending=False).head(n)\n",
    "\n",
    "def recommend_item_cf(user_id, item_sim_matrix, ratings_matrix, n=5):\n",
    "    user_ratings = ratings_matrix.loc[user_id].dropna()\n",
    "    scores = item_sim_matrix.loc[user_ratings.index].T @ user_ratings\n",
    "    scores = scores / item_sim_matrix.loc[user_ratings.index].sum()\n",
    "    scores = scores.drop(user_ratings.index, errors=\"ignore\")\n",
    "    return scores.sort_values(ascending=False).head(n)\n",
    "\n",
    "def recommend_svd(user_id, svd, ratings_matrix, n=5):\n",
    "    user_ratings = ratings_matrix.loc[user_id]\n",
    "    predictions = {\n",
    "        item: svd.predict(user_id, item).est\n",
    "        for item in ratings_matrix.columns\n",
    "        if pd.isna(user_ratings.get(item, np.nan))\n",
    "    }\n",
    "    return sorted(predictions.items(), key=lambda x: x[1], reverse=True)[:n]\n"
   ],
   "metadata": {
    "collapsed": false,
    "ExecuteTime": {
     "end_time": "2025-08-27T15:56:54.396717600Z",
     "start_time": "2025-08-27T15:56:54.374525100Z"
    }
   },
   "id": "80d9ff0826c1f3c1",
   "execution_count": 4
  },
  {
   "cell_type": "markdown",
   "source": [
    "## Example Usage"
   ],
   "metadata": {
    "collapsed": false
   },
   "id": "bf4950b2b36c5b83"
  },
  {
   "cell_type": "code",
   "outputs": [
    {
     "name": "stdout",
     "output_type": "stream",
     "text": [
      "\n",
      "Top 5 recommendations for user 13:\n",
      "\n",
      "=== User-Based CF ===\n"
     ]
    },
    {
     "ename": "Exception",
     "evalue": "Dot product shape mismatch, (942,) vs (943, 1682)",
     "output_type": "error",
     "traceback": [
      "\u001B[31m---------------------------------------------------------------------------\u001B[39m",
      "\u001B[31mException\u001B[39m                                 Traceback (most recent call last)",
      "\u001B[36mCell\u001B[39m\u001B[36m \u001B[39m\u001B[32mIn[7]\u001B[39m\u001B[32m, line 7\u001B[39m\n\u001B[32m      4\u001B[39m \u001B[38;5;28mprint\u001B[39m(\u001B[33mf\u001B[39m\u001B[33m\"\u001B[39m\u001B[38;5;130;01m\\n\u001B[39;00m\u001B[33mTop \u001B[39m\u001B[38;5;132;01m{\u001B[39;00mk_movies\u001B[38;5;132;01m}\u001B[39;00m\u001B[33m recommendations for user \u001B[39m\u001B[38;5;132;01m{\u001B[39;00mtarget_user_id\u001B[38;5;132;01m}\u001B[39;00m\u001B[33m:\u001B[39m\u001B[38;5;130;01m\\n\u001B[39;00m\u001B[33m\"\u001B[39m)\n\u001B[32m      6\u001B[39m \u001B[38;5;28mprint\u001B[39m(\u001B[33m\"\u001B[39m\u001B[33m=== User-Based CF ===\u001B[39m\u001B[33m\"\u001B[39m)\n\u001B[32m----> \u001B[39m\u001B[32m7\u001B[39m \u001B[38;5;28mprint\u001B[39m(\u001B[43mrecommend_user_cf\u001B[49m\u001B[43m(\u001B[49m\u001B[43mtarget_user_id\u001B[49m\u001B[43m,\u001B[49m\u001B[43m \u001B[49m\u001B[43muser_sim_matrix\u001B[49m\u001B[43m,\u001B[49m\u001B[43m \u001B[49m\u001B[43mratings_matrix\u001B[49m\u001B[43m,\u001B[49m\u001B[43m \u001B[49m\u001B[43mn\u001B[49m\u001B[43m=\u001B[49m\u001B[43mk_movies\u001B[49m\u001B[43m)\u001B[49m)\n\u001B[32m      9\u001B[39m \u001B[38;5;28mprint\u001B[39m(\u001B[33m\"\u001B[39m\u001B[38;5;130;01m\\n\u001B[39;00m\u001B[33m=== Item-Based CF ===\u001B[39m\u001B[33m\"\u001B[39m)\n\u001B[32m     10\u001B[39m \u001B[38;5;28mprint\u001B[39m(recommend_item_cf(target_user_id, item_sim_matrix, ratings_matrix, n=k_movies))\n",
      "\u001B[36mCell\u001B[39m\u001B[36m \u001B[39m\u001B[32mIn[4]\u001B[39m\u001B[32m, line 3\u001B[39m, in \u001B[36mrecommend_user_cf\u001B[39m\u001B[34m(user_id, user_sim_matrix, ratings_matrix, n)\u001B[39m\n\u001B[32m      1\u001B[39m \u001B[38;5;28;01mdef\u001B[39;00m\u001B[38;5;250m \u001B[39m\u001B[34mrecommend_user_cf\u001B[39m(user_id, user_sim_matrix, ratings_matrix, n=\u001B[32m5\u001B[39m):\n\u001B[32m      2\u001B[39m     sims = user_sim_matrix.loc[user_id].drop(user_id)\n\u001B[32m----> \u001B[39m\u001B[32m3\u001B[39m     weighted_ratings = \u001B[43msims\u001B[49m\u001B[43m \u001B[49m\u001B[43m@\u001B[49m\u001B[43m \u001B[49m\u001B[43mratings_matrix\u001B[49m\u001B[43m.\u001B[49m\u001B[43mfillna\u001B[49m\u001B[43m(\u001B[49m\u001B[32;43m0\u001B[39;49m\u001B[43m)\u001B[49m\u001B[43m.\u001B[49m\u001B[43mvalues\u001B[49m\n\u001B[32m      4\u001B[39m     preds = pd.Series(weighted_ratings, index=ratings_matrix.columns)\n\u001B[32m      5\u001B[39m     rated_items = ratings_matrix.loc[user_id].dropna().index\n",
      "\u001B[36mFile \u001B[39m\u001B[32mE:\\pycharm general venv\\GeneralVenv\\.venv\\Lib\\site-packages\\pandas\\core\\series.py:3263\u001B[39m, in \u001B[36mSeries.__matmul__\u001B[39m\u001B[34m(self, other)\u001B[39m\n\u001B[32m   3259\u001B[39m \u001B[38;5;28;01mdef\u001B[39;00m\u001B[38;5;250m \u001B[39m\u001B[34m__matmul__\u001B[39m(\u001B[38;5;28mself\u001B[39m, other):\n\u001B[32m   3260\u001B[39m \u001B[38;5;250m    \u001B[39m\u001B[33;03m\"\"\"\u001B[39;00m\n\u001B[32m   3261\u001B[39m \u001B[33;03m    Matrix multiplication using binary `@` operator.\u001B[39;00m\n\u001B[32m   3262\u001B[39m \u001B[33;03m    \"\"\"\u001B[39;00m\n\u001B[32m-> \u001B[39m\u001B[32m3263\u001B[39m     \u001B[38;5;28;01mreturn\u001B[39;00m \u001B[38;5;28;43mself\u001B[39;49m\u001B[43m.\u001B[49m\u001B[43mdot\u001B[49m\u001B[43m(\u001B[49m\u001B[43mother\u001B[49m\u001B[43m)\u001B[49m\n",
      "\u001B[36mFile \u001B[39m\u001B[32mE:\\pycharm general venv\\GeneralVenv\\.venv\\Lib\\site-packages\\pandas\\core\\series.py:3244\u001B[39m, in \u001B[36mSeries.dot\u001B[39m\u001B[34m(self, other)\u001B[39m\n\u001B[32m   3242\u001B[39m     rvals = np.asarray(other)\n\u001B[32m   3243\u001B[39m     \u001B[38;5;28;01mif\u001B[39;00m lvals.shape[\u001B[32m0\u001B[39m] != rvals.shape[\u001B[32m0\u001B[39m]:\n\u001B[32m-> \u001B[39m\u001B[32m3244\u001B[39m         \u001B[38;5;28;01mraise\u001B[39;00m \u001B[38;5;167;01mException\u001B[39;00m(\n\u001B[32m   3245\u001B[39m             \u001B[33mf\u001B[39m\u001B[33m\"\u001B[39m\u001B[33mDot product shape mismatch, \u001B[39m\u001B[38;5;132;01m{\u001B[39;00mlvals.shape\u001B[38;5;132;01m}\u001B[39;00m\u001B[33m vs \u001B[39m\u001B[38;5;132;01m{\u001B[39;00mrvals.shape\u001B[38;5;132;01m}\u001B[39;00m\u001B[33m\"\u001B[39m\n\u001B[32m   3246\u001B[39m         )\n\u001B[32m   3248\u001B[39m \u001B[38;5;28;01mif\u001B[39;00m \u001B[38;5;28misinstance\u001B[39m(other, ABCDataFrame):\n\u001B[32m   3249\u001B[39m     \u001B[38;5;28;01mreturn\u001B[39;00m \u001B[38;5;28mself\u001B[39m._constructor(\n\u001B[32m   3250\u001B[39m         np.dot(lvals, rvals), index=other.columns, copy=\u001B[38;5;28;01mFalse\u001B[39;00m\n\u001B[32m   3251\u001B[39m     ).__finalize__(\u001B[38;5;28mself\u001B[39m, method=\u001B[33m\"\u001B[39m\u001B[33mdot\u001B[39m\u001B[33m\"\u001B[39m)\n",
      "\u001B[31mException\u001B[39m: Dot product shape mismatch, (942,) vs (943, 1682)"
     ]
    }
   ],
   "source": [
    "target_user_id = 13\n",
    "k_movies = 5\n",
    "\n",
    "print(f\"\\nTop {k_movies} recommendations for user {target_user_id}:\\n\")\n",
    "\n",
    "print(\"=== User-Based CF ===\")\n",
    "print(recommend_user_cf(target_user_id, user_sim_matrix, ratings_matrix, n=k_movies))\n",
    "\n",
    "print(\"\\n=== Item-Based CF ===\")\n",
    "print(recommend_item_cf(target_user_id, item_sim_matrix, ratings_matrix, n=k_movies))\n",
    "\n"
   ],
   "metadata": {
    "collapsed": false,
    "ExecuteTime": {
     "end_time": "2025-08-27T15:58:58.341091300Z",
     "start_time": "2025-08-27T15:58:57.707956400Z"
    }
   },
   "id": "b0cf6b6a2a061855",
   "execution_count": 7
  },
  {
   "cell_type": "code",
   "outputs": [],
   "source": [],
   "metadata": {
    "collapsed": false
   },
   "id": "a1dc69e4a454e25"
  }
 ],
 "metadata": {
  "kernelspec": {
   "display_name": "Python 3",
   "language": "python",
   "name": "python3"
  },
  "language_info": {
   "codemirror_mode": {
    "name": "ipython",
    "version": 2
   },
   "file_extension": ".py",
   "mimetype": "text/x-python",
   "name": "python",
   "nbconvert_exporter": "python",
   "pygments_lexer": "ipython2",
   "version": "2.7.6"
  }
 },
 "nbformat": 4,
 "nbformat_minor": 5
}
