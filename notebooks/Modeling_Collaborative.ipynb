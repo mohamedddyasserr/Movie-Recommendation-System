{
 "cells": [
  {
   "cell_type": "markdown",
   "source": [
    "# Movie Recommendation Models Notebook\n",
    "\n",
    "## Imports"
   ],
   "metadata": {
    "collapsed": false
   },
   "id": "9656e5bd3294edf9"
  },
  {
   "cell_type": "code",
   "execution_count": 95,
   "id": "initial_id",
   "metadata": {
    "collapsed": true,
    "ExecuteTime": {
     "end_time": "2025-08-30T14:23:30.723356800Z",
     "start_time": "2025-08-30T14:23:30.498794900Z"
    }
   },
   "outputs": [],
   "source": [
    "# Core libraries\n",
    "import pandas as pd\n",
    "import numpy as np\n",
    "\n",
    "# Similarity\n",
    "from sklearn.metrics.pairwise import cosine_similarity\n",
    "from sklearn.model_selection import train_test_split\n",
    "\n",
    "# Matrix factorization\n",
    "from sklearn.decomposition import TruncatedSVD\n",
    "\n",
    "# Metrics\n",
    "from sklearn.metrics import precision_score, recall_score\n"
   ]
  },
  {
   "cell_type": "markdown",
   "source": [
    "## Load Processed Data"
   ],
   "metadata": {
    "collapsed": false
   },
   "id": "ad5028d0d1d0727a"
  },
  {
   "cell_type": "code",
   "outputs": [
    {
     "name": "stdout",
     "output_type": "stream",
     "text": [
      "Data Loaded:\n",
      "   user_id  item_id  rating                       title  age  gender  \\\n",
      "0      196      242       3                Kolya (1996)   49       0   \n",
      "1      186      302       3    L.A. Confidential (1997)   39       1   \n",
      "2       22      377       1         Heavyweights (1994)   25       0   \n",
      "3      244       51       2  Legends of the Fall (1994)   28       0   \n",
      "4      166      346       1         Jackie Brown (1997)   47       0   \n",
      "\n",
      "   occupation  \n",
      "0          20  \n",
      "1           6  \n",
      "2          20  \n",
      "3          19  \n",
      "4           3  \n"
     ]
    }
   ],
   "source": [
    "full_data = pd.read_csv(\"processed_data/movielens_processed.csv\")\n",
    "\n",
    "print(\"Data Loaded:\")\n",
    "print(full_data.head())\n"
   ],
   "metadata": {
    "collapsed": false,
    "ExecuteTime": {
     "end_time": "2025-08-30T14:23:31.274826500Z",
     "start_time": "2025-08-30T14:23:30.696485600Z"
    }
   },
   "id": "4681b514b11100d7",
   "execution_count": 96
  },
  {
   "cell_type": "markdown",
   "source": [
    "## Train-Test Split"
   ],
   "metadata": {
    "collapsed": false
   },
   "id": "97b0806c4e462da3"
  },
  {
   "cell_type": "code",
   "outputs": [
    {
     "name": "stdout",
     "output_type": "stream",
     "text": [
      "Train size: 80000, Test size: 20000\n"
     ]
    }
   ],
   "source": [
    "train_df, test_df = train_test_split(full_data, test_size=0.2, random_state=42)\n",
    "\n",
    "print(f\"Train size: {len(train_df)}, Test size: {len(test_df)}\")\n"
   ],
   "metadata": {
    "collapsed": false,
    "ExecuteTime": {
     "end_time": "2025-08-30T14:23:31.464023800Z",
     "start_time": "2025-08-30T14:23:31.271834200Z"
    }
   },
   "id": "855e26c2ed3f4906",
   "execution_count": 97
  },
  {
   "cell_type": "markdown",
   "source": [
    "## Evaluation Helpers"
   ],
   "metadata": {
    "collapsed": false
   },
   "id": "e620446eec98f010"
  },
  {
   "cell_type": "code",
   "outputs": [],
   "source": [
    "def precision_recall_at_k(model_func, ratings_matrix, movies_df, sim_matrix=None, \n",
    "                          user_factors=None, item_factors=None, k=5):\n",
    "    precisions, recalls = [], []\n",
    "    \n",
    "    for user_id in ratings_matrix.index:\n",
    "        # get recommendations\n",
    "        if model_func.__name__ == \"recommend_user_cf\":\n",
    "            recs = model_func(user_id, ratings_matrix, sim_matrix, movies_df, k=k)\n",
    "        elif model_func.__name__ == \"recommend_item_cf\":\n",
    "            recs = model_func(user_id, ratings_matrix, sim_matrix, movies_df, k=k)\n",
    "        elif model_func.__name__ == \"recommend_svd_truncated\":\n",
    "            recs = model_func(user_id, user_factors, item_factors, ratings_matrix, movies_df, k=k)\n",
    "        else:\n",
    "            continue\n",
    "        \n",
    "        # ground truth (items the user actually rated in test set)\n",
    "        relevant_items = test_df[test_df[\"user_id\"] == user_id][\"item_id\"].values\n",
    "        \n",
    "        if len(relevant_items) == 0 or recs.empty:\n",
    "            continue\n",
    "        \n",
    "        recommended_items = recs[\"item_id\"].values\n",
    "        \n",
    "        # binary relevance vectors\n",
    "        y_true = [1 if item in relevant_items else 0 for item in recommended_items]\n",
    "        y_pred = [1] * len(recommended_items)\n",
    "        \n",
    "        precisions.append(precision_score(y_true, y_pred, zero_division=0))\n",
    "        recalls.append(recall_score(y_true, y_pred, zero_division=0))\n",
    "    \n",
    "    return np.mean(precisions), np.mean(recalls)\n"
   ],
   "metadata": {
    "collapsed": false,
    "ExecuteTime": {
     "end_time": "2025-08-30T14:23:31.610826Z",
     "start_time": "2025-08-30T14:23:31.601333400Z"
    }
   },
   "id": "cf439e0d68bdbdd2",
   "execution_count": 98
  },
  {
   "cell_type": "markdown",
   "source": [
    "## Model 1 - User-Based Collaborative Filtering"
   ],
   "metadata": {
    "collapsed": false
   },
   "id": "2758f530448f886a"
  },
  {
   "cell_type": "code",
   "outputs": [
    {
     "name": "stdout",
     "output_type": "stream",
     "text": [
      "Top 5 recommendations for User 13 (User-Based CF):\n",
      "   item_id                                      title  predicted_rating\n",
      "0       50                           Star Wars (1977)          2.461095\n",
      "1       79                       Fugitive, The (1993)          1.591377\n",
      "2      210  Indiana Jones and the Last Crusade (1989)          1.590639\n",
      "3       69                        Forrest Gump (1994)          1.461275\n",
      "4      183                               Alien (1979)          1.423157\n"
     ]
    }
   ],
   "source": [
    "# Create user-item rating matrix\n",
    "user_item_matrix = train_df.pivot(index=\"user_id\", columns=\"item_id\", values=\"rating\").fillna(0)\n",
    "\n",
    "# Compute cosine similarity between users\n",
    "user_sim_matrix = cosine_similarity(user_item_matrix)\n",
    "user_sim_df = pd.DataFrame(user_sim_matrix, index=user_item_matrix.index, columns=user_item_matrix.index)\n",
    "\n",
    "def recommend_user_cf(user_id, ratings_matrix, sim_matrix, movies_df, k=5):\n",
    "    # Get similarity scores\n",
    "    sim_scores = sim_matrix[user_id - 1]  # adjust for 0-index\n",
    "    weighted_ratings = sim_scores @ ratings_matrix.values\n",
    "    norm = np.abs(sim_scores).sum()\n",
    "    preds = weighted_ratings / norm if norm > 0 else weighted_ratings\n",
    "    \n",
    "    # Exclude already rated movies\n",
    "    rated_items = ratings_matrix.loc[user_id][ratings_matrix.loc[user_id] > 0].index\n",
    "    preds = pd.Series(preds, index=ratings_matrix.columns)\n",
    "    preds = preds.drop(rated_items, errors=\"ignore\")\n",
    "    \n",
    "    # Top-k\n",
    "    top_k = preds.sort_values(ascending=False).head(k)\n",
    "    \n",
    "    # Map to movie titles (deduplicate)\n",
    "    top_movies = movies_df.drop_duplicates(\"item_id\")\n",
    "    result = top_movies[top_movies[\"item_id\"].isin(top_k.index)][[\"item_id\", \"title\"]]\n",
    "    result = result.set_index(\"item_id\").loc[top_k.index]  # preserve order\n",
    "    result = result.reset_index().assign(predicted_rating=top_k.values)\n",
    "    \n",
    "    return result\n",
    "\n",
    "# Example recommendation\n",
    "target_user_id = 13\n",
    "print(f\"Top 5 recommendations for User {target_user_id} (User-Based CF):\")\n",
    "print(recommend_user_cf(target_user_id, user_item_matrix, user_sim_matrix, full_data, k=5))\n",
    "\n"
   ],
   "metadata": {
    "collapsed": false,
    "ExecuteTime": {
     "end_time": "2025-08-30T14:23:32.597519400Z",
     "start_time": "2025-08-30T14:23:31.647935600Z"
    }
   },
   "id": "38326e5095bed83e",
   "execution_count": 99
  },
  {
   "cell_type": "markdown",
   "source": [
    "## Evaluate User-Based CF"
   ],
   "metadata": {
    "collapsed": false
   },
   "id": "a627532f766472d7"
  },
  {
   "cell_type": "code",
   "outputs": [
    {
     "name": "stdout",
     "output_type": "stream",
     "text": [
      "Precision@5 (User-CF): 0.316\n",
      "Recall@5    (User-CF): 0.738\n"
     ]
    }
   ],
   "source": [
    "p_user, r_user = precision_recall_at_k(\n",
    "    recommend_user_cf, user_item_matrix, full_data, sim_matrix=user_sim_matrix, k=5\n",
    ")\n",
    "print(f\"Precision@5 (User-CF): {p_user:.3f}\")\n",
    "print(f\"Recall@5    (User-CF): {r_user:.3f}\")\n"
   ],
   "metadata": {
    "collapsed": false,
    "ExecuteTime": {
     "end_time": "2025-08-30T14:23:45.577893300Z",
     "start_time": "2025-08-30T14:23:32.587745100Z"
    }
   },
   "id": "4109f1d5b12357c0",
   "execution_count": 100
  },
  {
   "cell_type": "markdown",
   "source": [
    "## Model 2 – Item-Based Collaborative Filtering"
   ],
   "metadata": {
    "collapsed": false
   },
   "id": "87afa9d5d91e6b71"
  },
  {
   "cell_type": "code",
   "outputs": [
    {
     "name": "stdout",
     "output_type": "stream",
     "text": [
      "Top 5 recommendations for User 13 (Item-Based CF):\n",
      "   item_id                                      title  predicted_rating\n",
      "0      210  Indiana Jones and the Last Crusade (1989)        427.071102\n",
      "1       79                       Fugitive, The (1993)        412.232767\n",
      "2       50                           Star Wars (1977)        408.059391\n",
      "3       69                        Forrest Gump (1994)        401.745955\n",
      "4      196                  Dead Poets Society (1989)        396.253245\n"
     ]
    }
   ],
   "source": [
    "# Compute cosine similarity between items\n",
    "item_sim_matrix = cosine_similarity(user_item_matrix.T)\n",
    "item_sim_df = pd.DataFrame(item_sim_matrix, index=user_item_matrix.columns, columns=user_item_matrix.columns)\n",
    "\n",
    "def recommend_item_cf(user_id, ratings_matrix, sim_matrix, movies_df, k=5):\n",
    "    # Get user's ratings\n",
    "    user_ratings = ratings_matrix.loc[user_id]\n",
    "    \n",
    "    # Weighted sum of similarities\n",
    "    preds = sim_matrix @ user_ratings.values\n",
    "    preds = pd.Series(preds, index=ratings_matrix.columns)\n",
    "    \n",
    "    # Exclude already rated\n",
    "    preds = preds.drop(user_ratings[user_ratings > 0].index, errors=\"ignore\")\n",
    "    \n",
    "    # Top-k predictions\n",
    "    top_k = preds.sort_values(ascending=False).head(k)\n",
    "    \n",
    "    # Map to movie titles (deduplicate + preserve order)\n",
    "    top_movies = movies_df.drop_duplicates(\"item_id\")\n",
    "    result = top_movies[top_movies[\"item_id\"].isin(top_k.index)][[\"item_id\", \"title\"]]\n",
    "    result = result.set_index(\"item_id\").loc[top_k.index]\n",
    "    result = result.reset_index().assign(predicted_rating=top_k.values)\n",
    "    \n",
    "    return result\n",
    "\n",
    "# Example recommendation\n",
    "print(f\"Top 5 recommendations for User {target_user_id} (Item-Based CF):\")\n",
    "print(recommend_item_cf(target_user_id, user_item_matrix, item_sim_matrix, full_data, k=5))\n"
   ],
   "metadata": {
    "collapsed": false,
    "ExecuteTime": {
     "end_time": "2025-08-30T14:23:45.849800Z",
     "start_time": "2025-08-30T14:23:45.583865Z"
    }
   },
   "id": "af80b8e615be1e12",
   "execution_count": 101
  },
  {
   "cell_type": "markdown",
   "source": [
    "## Evaluate Item-Based CF"
   ],
   "metadata": {
    "collapsed": false
   },
   "id": "12ef20e798b2c413"
  },
  {
   "cell_type": "code",
   "outputs": [
    {
     "name": "stdout",
     "output_type": "stream",
     "text": [
      "Precision@5 (Item-CF): 0.356\n",
      "Recall@5    (Item-CF): 0.785\n"
     ]
    }
   ],
   "source": [
    "p_item, r_item = precision_recall_at_k(\n",
    "    recommend_item_cf, user_item_matrix, full_data, sim_matrix=item_sim_matrix, k=5\n",
    ")\n",
    "print(f\"Precision@5 (Item-CF): {p_item:.3f}\")\n",
    "print(f\"Recall@5    (Item-CF): {r_item:.3f}\")\n"
   ],
   "metadata": {
    "collapsed": false,
    "ExecuteTime": {
     "end_time": "2025-08-30T14:23:59.515602Z",
     "start_time": "2025-08-30T14:23:45.824866400Z"
    }
   },
   "id": "6581f1c8d82f2825",
   "execution_count": 102
  },
  {
   "cell_type": "markdown",
   "source": [
    "## Model 3 – Matrix Factorization (SVD)"
   ],
   "metadata": {
    "collapsed": false
   },
   "id": "7d5911d52da5673c"
  },
  {
   "cell_type": "code",
   "outputs": [
    {
     "name": "stdout",
     "output_type": "stream",
     "text": [
      "Top 5 recommendations for User 13 (SVD with TruncatedSVD):\n",
      "   item_id                              title  predicted_rating\n",
      "0      510      Magnificent Seven, The (1954)          3.045277\n",
      "1       15          Mr. Holland's Opus (1995)          2.732076\n",
      "2      467               Bronx Tale, A (1993)          2.286077\n",
      "3      530  Man Who Would Be King, The (1975)          2.261765\n",
      "4       63           Santa Clause, The (1994)          2.141904\n"
     ]
    }
   ],
   "source": [
    "# Apply Truncated SVD on user-item matrix\n",
    "svd = TruncatedSVD(n_components=50, random_state=42)\n",
    "user_factors = svd.fit_transform(user_item_matrix)\n",
    "item_factors = svd.components_.T\n",
    "\n",
    "def recommend_svd_truncated(user_id, user_factors, item_factors, ratings_matrix, movies_df, k=5):\n",
    "    # Get user vector\n",
    "    user_vector = user_factors[user_id - 1]  # adjust for 0-index\n",
    "    \n",
    "    # Predict scores for all items\n",
    "    scores = user_vector @ item_factors.T\n",
    "    preds = pd.Series(scores, index=ratings_matrix.columns)\n",
    "    \n",
    "    # Exclude already rated\n",
    "    rated_items = ratings_matrix.loc[user_id][ratings_matrix.loc[user_id] > 0].index\n",
    "    preds = preds.drop(rated_items, errors=\"ignore\")\n",
    "    \n",
    "    # Top-k\n",
    "    top_k = preds.sort_values(ascending=False).head(k)\n",
    "    \n",
    "    # Map to movie titles\n",
    "    top_movies = movies_df.drop_duplicates(\"item_id\")\n",
    "    result = top_movies[top_movies[\"item_id\"].isin(top_k.index)][[\"item_id\", \"title\"]]\n",
    "    result = result.set_index(\"item_id\").loc[top_k.index]\n",
    "    result = result.reset_index().assign(predicted_rating=top_k.values)\n",
    "    \n",
    "    return result\n",
    "\n",
    "# Example recommendation\n",
    "print(f\"Top 5 recommendations for User {target_user_id} (SVD with TruncatedSVD):\")\n",
    "print(recommend_svd_truncated(target_user_id, user_factors, item_factors, user_item_matrix, full_data, k=5))\n"
   ],
   "metadata": {
    "collapsed": false,
    "ExecuteTime": {
     "end_time": "2025-08-30T14:23:59.674354900Z",
     "start_time": "2025-08-30T14:23:59.523438500Z"
    }
   },
   "id": "806614e47ff765ad",
   "execution_count": 103
  },
  {
   "cell_type": "markdown",
   "source": [
    "## Evaluate SVD"
   ],
   "metadata": {
    "collapsed": false
   },
   "id": "a84d2c4310314e67"
  },
  {
   "cell_type": "code",
   "outputs": [
    {
     "name": "stdout",
     "output_type": "stream",
     "text": [
      "Precision@5 (SVD): 0.361\n",
      "Recall@5    (SVD): 0.804\n"
     ]
    }
   ],
   "source": [
    "p_svd, r_svd = precision_recall_at_k(\n",
    "    recommend_svd_truncated, user_item_matrix, full_data, \n",
    "    user_factors=user_factors, item_factors=item_factors, k=5\n",
    ")\n",
    "print(f\"Precision@5 (SVD): {p_svd:.3f}\")\n",
    "print(f\"Recall@5    (SVD): {r_svd:.3f}\")\n"
   ],
   "metadata": {
    "collapsed": false,
    "ExecuteTime": {
     "end_time": "2025-08-30T14:24:10.997016600Z",
     "start_time": "2025-08-30T14:23:59.669169500Z"
    }
   },
   "id": "3b16091683d10377",
   "execution_count": 104
  }
 ],
 "metadata": {
  "kernelspec": {
   "display_name": "Python 3",
   "language": "python",
   "name": "python3"
  },
  "language_info": {
   "codemirror_mode": {
    "name": "ipython",
    "version": 2
   },
   "file_extension": ".py",
   "mimetype": "text/x-python",
   "name": "python",
   "nbconvert_exporter": "python",
   "pygments_lexer": "ipython2",
   "version": "2.7.6"
  }
 },
 "nbformat": 4,
 "nbformat_minor": 5
}
