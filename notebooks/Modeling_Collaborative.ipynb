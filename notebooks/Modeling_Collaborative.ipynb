{
 "cells": [
  {
   "cell_type": "markdown",
   "source": [
    "# Movie Recommendation Models Notebook\n",
    "\n",
    "## Imports"
   ],
   "metadata": {
    "collapsed": false
   },
   "id": "9656e5bd3294edf9"
  },
  {
   "cell_type": "code",
   "execution_count": 35,
   "id": "initial_id",
   "metadata": {
    "collapsed": true,
    "ExecuteTime": {
     "end_time": "2025-08-27T15:50:26.356436500Z",
     "start_time": "2025-08-27T15:50:26.318235200Z"
    }
   },
   "outputs": [],
   "source": [
    "import pandas as pd\n",
    "import numpy as np\n",
    "from pathlib import Path\n",
    "\n",
    "from sklearn.metrics.pairwise import cosine_similarity\n",
    "from sklearn.model_selection import train_test_split\n",
    "from sklearn.metrics import mean_squared_error, mean_absolute_error\n",
    "from scipy.sparse.linalg import svds\n"
   ]
  },
  {
   "cell_type": "markdown",
   "source": [
    "## Load Processed Data"
   ],
   "metadata": {
    "collapsed": false
   },
   "id": "ad5028d0d1d0727a"
  },
  {
   "cell_type": "code",
   "outputs": [
    {
     "name": "stdout",
     "output_type": "stream",
     "text": [
      "✔️ Data loaded: processed_data\\movielens_processed.csv\n"
     ]
    },
    {
     "data": {
      "text/plain": "   user_id  item_id  rating                       title  age  gender  \\\n0      196      242       3                Kolya (1996)   49       0   \n1      186      302       3    L.A. Confidential (1997)   39       1   \n2       22      377       1         Heavyweights (1994)   25       0   \n3      244       51       2  Legends of the Fall (1994)   28       0   \n4      166      346       1         Jackie Brown (1997)   47       0   \n\n   occupation  \n0          20  \n1           6  \n2          20  \n3          19  \n4           3  ",
      "text/html": "<div>\n<style scoped>\n    .dataframe tbody tr th:only-of-type {\n        vertical-align: middle;\n    }\n\n    .dataframe tbody tr th {\n        vertical-align: top;\n    }\n\n    .dataframe thead th {\n        text-align: right;\n    }\n</style>\n<table border=\"1\" class=\"dataframe\">\n  <thead>\n    <tr style=\"text-align: right;\">\n      <th></th>\n      <th>user_id</th>\n      <th>item_id</th>\n      <th>rating</th>\n      <th>title</th>\n      <th>age</th>\n      <th>gender</th>\n      <th>occupation</th>\n    </tr>\n  </thead>\n  <tbody>\n    <tr>\n      <th>0</th>\n      <td>196</td>\n      <td>242</td>\n      <td>3</td>\n      <td>Kolya (1996)</td>\n      <td>49</td>\n      <td>0</td>\n      <td>20</td>\n    </tr>\n    <tr>\n      <th>1</th>\n      <td>186</td>\n      <td>302</td>\n      <td>3</td>\n      <td>L.A. Confidential (1997)</td>\n      <td>39</td>\n      <td>1</td>\n      <td>6</td>\n    </tr>\n    <tr>\n      <th>2</th>\n      <td>22</td>\n      <td>377</td>\n      <td>1</td>\n      <td>Heavyweights (1994)</td>\n      <td>25</td>\n      <td>0</td>\n      <td>20</td>\n    </tr>\n    <tr>\n      <th>3</th>\n      <td>244</td>\n      <td>51</td>\n      <td>2</td>\n      <td>Legends of the Fall (1994)</td>\n      <td>28</td>\n      <td>0</td>\n      <td>19</td>\n    </tr>\n    <tr>\n      <th>4</th>\n      <td>166</td>\n      <td>346</td>\n      <td>1</td>\n      <td>Jackie Brown (1997)</td>\n      <td>47</td>\n      <td>0</td>\n      <td>3</td>\n    </tr>\n  </tbody>\n</table>\n</div>"
     },
     "execution_count": 18,
     "metadata": {},
     "output_type": "execute_result"
    }
   ],
   "source": [
    "# --- Directories ---\n",
    "processed_data_dir = Path(\"processed_data\")\n",
    "processed_file = processed_data_dir / \"movielens_processed.csv\"\n",
    "\n",
    "# --- Load processed dataset ---\n",
    "if not processed_file.exists():\n",
    "    raise FileNotFoundError(\"⚠️ movielens_processed.csv not found in processed_data. Run PreProcessing notebook first.\")\n",
    "\n",
    "data = pd.read_csv(processed_file)\n",
    "\n",
    "print(\"✔️ Data loaded:\", processed_file)\n",
    "data.head()"
   ],
   "metadata": {
    "collapsed": false,
    "ExecuteTime": {
     "end_time": "2025-08-27T15:10:06.270882500Z",
     "start_time": "2025-08-27T15:10:06.016243700Z"
    }
   },
   "id": "4681b514b11100d7",
   "execution_count": 18
  },
  {
   "cell_type": "markdown",
   "source": [
    "## Quick Data OverView"
   ],
   "metadata": {
    "collapsed": false
   },
   "id": "f49f33a50c49d397"
  },
  {
   "cell_type": "code",
   "outputs": [
    {
     "name": "stdout",
     "output_type": "stream",
     "text": [
      "Number of ratings: 100000\n",
      "Number of users: 943\n",
      "Number of movies: 1682\n",
      "<class 'pandas.core.frame.DataFrame'>\n",
      "RangeIndex: 100000 entries, 0 to 99999\n",
      "Data columns (total 7 columns):\n",
      " #   Column      Non-Null Count   Dtype \n",
      "---  ------      --------------   ----- \n",
      " 0   user_id     100000 non-null  int64 \n",
      " 1   item_id     100000 non-null  int64 \n",
      " 2   rating      100000 non-null  int64 \n",
      " 3   title       100000 non-null  object\n",
      " 4   age         100000 non-null  int64 \n",
      " 5   gender      100000 non-null  int64 \n",
      " 6   occupation  100000 non-null  int64 \n",
      "dtypes: int64(6), object(1)\n",
      "memory usage: 5.3+ MB\n",
      "None\n"
     ]
    }
   ],
   "source": [
    "print(\"Number of ratings:\", data.shape[0])\n",
    "print(\"Number of users:\", data['user_id'].nunique())\n",
    "print(\"Number of movies:\", data['item_id'].nunique())\n",
    "print(data.info())\n"
   ],
   "metadata": {
    "collapsed": false,
    "ExecuteTime": {
     "end_time": "2025-08-27T15:10:25.592061600Z",
     "start_time": "2025-08-27T15:10:25.541864900Z"
    }
   },
   "id": "5240797c6f34dc4",
   "execution_count": 19
  },
  {
   "cell_type": "markdown",
   "source": [
    "## Train-Test Split"
   ],
   "metadata": {
    "collapsed": false
   },
   "id": "f7d616b7179e76f3"
  },
  {
   "cell_type": "code",
   "outputs": [
    {
     "name": "stdout",
     "output_type": "stream",
     "text": [
      "Train size: (80000, 7)\n",
      "Test size : (20000, 7)\n"
     ]
    }
   ],
   "source": [
    "train, test = train_test_split(data, test_size=0.2, random_state=42)\n",
    "\n",
    "print(\"Train size:\", train.shape)\n",
    "print(\"Test size :\", test.shape)\n"
   ],
   "metadata": {
    "collapsed": false,
    "ExecuteTime": {
     "end_time": "2025-08-27T15:10:30.129484400Z",
     "start_time": "2025-08-27T15:10:29.977503200Z"
    }
   },
   "id": "cdcedc87c60d5190",
   "execution_count": 20
  },
  {
   "cell_type": "markdown",
   "source": [
    "## Build User-Item Matrix"
   ],
   "metadata": {
    "collapsed": false
   },
   "id": "2758f530448f886a"
  },
  {
   "cell_type": "code",
   "outputs": [
    {
     "name": "stdout",
     "output_type": "stream",
     "text": [
      "User-Item Matrix shape: (943, 1653)\n"
     ]
    }
   ],
   "source": [
    "user_item_matrix = train.pivot(index=\"user_id\", columns=\"item_id\", values=\"rating\")\n",
    "user_item_matrix = user_item_matrix.fillna(0)\n",
    "\n",
    "print(\"User-Item Matrix shape:\", user_item_matrix.shape)\n"
   ],
   "metadata": {
    "collapsed": false,
    "ExecuteTime": {
     "end_time": "2025-08-27T15:11:07.477877700Z",
     "start_time": "2025-08-27T15:11:07.414301100Z"
    }
   },
   "id": "38326e5095bed83e",
   "execution_count": 21
  },
  {
   "cell_type": "markdown",
   "source": [
    "## Helper Functions (Evaluation)"
   ],
   "metadata": {
    "collapsed": false
   },
   "id": "5ae86d5784b17fdc"
  },
  {
   "cell_type": "code",
   "outputs": [],
   "source": [
    "# RMSE & MAE\n",
    "def get_rmse_mae(true, pred):\n",
    "    rmse = np.sqrt(mean_squared_error(true, pred))\n",
    "    mae = mean_absolute_error(true, pred)\n",
    "    return rmse, mae\n",
    "\n",
    "# Precision / Recall / F1 @ K\n",
    "def precision_recall_at_k(pred_matrix, test_df, k=10):\n",
    "    precisions, recalls = [], []\n",
    "\n",
    "    for user in test_df['user_id'].unique():\n",
    "        true_items = test_df[(test_df.user_id == user) & (test_df.rating >= 4)]['item_id'].tolist()\n",
    "        if not true_items:\n",
    "            continue\n",
    "\n",
    "        if user not in pred_matrix.index:\n",
    "            continue\n",
    "\n",
    "        preds = pred_matrix.loc[user].sort_values(ascending=False).head(k).index.tolist()\n",
    "\n",
    "        hits = len(set(preds) & set(true_items))\n",
    "        precisions.append(hits / k)\n",
    "        recalls.append(hits / len(true_items))\n",
    "\n",
    "    p, r = np.mean(precisions), np.mean(recalls)\n",
    "    f1 = (2 * p * r) / (p + r + 1e-8)\n",
    "    return p, r, f1\n"
   ],
   "metadata": {
    "collapsed": false,
    "ExecuteTime": {
     "end_time": "2025-08-27T15:12:11.245645900Z",
     "start_time": "2025-08-27T15:12:11.240314800Z"
    }
   },
   "id": "15f119eb4f09d88",
   "execution_count": 23
  },
  {
   "cell_type": "markdown",
   "source": [
    "## Model 1 – User-Based Collaborative Filtering"
   ],
   "metadata": {
    "collapsed": false
   },
   "id": "cd8927771087f17d"
  },
  {
   "cell_type": "code",
   "outputs": [
    {
     "name": "stdout",
     "output_type": "stream",
     "text": [
      "User-Based CF done\n"
     ]
    }
   ],
   "source": [
    "# User similarity\n",
    "user_similarity = cosine_similarity(user_item_matrix)\n",
    "user_similarity_df = pd.DataFrame(user_similarity, index=user_item_matrix.index, columns=user_item_matrix.index)\n",
    "\n",
    "# Prediction function\n",
    "def predict_user_based(user_item, similarity):\n",
    "    mean_user_rating = user_item.mean(axis=1).values.reshape(-1, 1)\n",
    "    ratings_diff = (user_item - mean_user_rating)\n",
    "    pred = mean_user_rating + similarity.dot(ratings_diff.fillna(0)) / np.array([np.abs(similarity).sum(axis=1)]).T\n",
    "    return pd.DataFrame(pred, index=user_item.index, columns=user_item.columns)\n",
    "\n",
    "# Predictions\n",
    "user_based_preds = predict_user_based(user_item_matrix, user_similarity)\n",
    "print(\"User-Based CF done\")\n"
   ],
   "metadata": {
    "collapsed": false,
    "ExecuteTime": {
     "end_time": "2025-08-27T15:12:58.257085400Z",
     "start_time": "2025-08-27T15:12:57.966458400Z"
    }
   },
   "id": "88f49a9af27f3c72",
   "execution_count": 24
  },
  {
   "cell_type": "markdown",
   "source": [
    "## Model 2 – Item-Based Collaborative Filtering"
   ],
   "metadata": {
    "collapsed": false
   },
   "id": "87afa9d5d91e6b71"
  },
  {
   "cell_type": "code",
   "outputs": [
    {
     "name": "stdout",
     "output_type": "stream",
     "text": [
      "Item-Based CF done\n"
     ]
    }
   ],
   "source": [
    "# Item similarity\n",
    "item_similarity = cosine_similarity(user_item_matrix.T)\n",
    "item_similarity_df = pd.DataFrame(item_similarity, index=user_item_matrix.columns, columns=user_item_matrix.columns)\n",
    "\n",
    "# Prediction function\n",
    "def predict_item_based(user_item, similarity):\n",
    "    pred = user_item.dot(similarity) / np.array([np.abs(similarity).sum(axis=1)])\n",
    "    return pd.DataFrame(pred, index=user_item.index, columns=user_item.columns)\n",
    "\n",
    "# Predictions\n",
    "item_based_preds = predict_item_based(user_item_matrix, item_similarity)\n",
    "print(\"Item-Based CF done\")\n"
   ],
   "metadata": {
    "collapsed": false,
    "ExecuteTime": {
     "end_time": "2025-08-27T15:14:24.551466200Z",
     "start_time": "2025-08-27T15:14:24.377862500Z"
    }
   },
   "id": "64904b75eb4a0290",
   "execution_count": 25
  },
  {
   "cell_type": "markdown",
   "source": [
    "## Model 3 – Matrix Factorization (SVD)"
   ],
   "metadata": {
    "collapsed": false
   },
   "id": "7d5911d52da5673c"
  },
  {
   "cell_type": "code",
   "outputs": [
    {
     "name": "stdout",
     "output_type": "stream",
     "text": [
      "SVD done\n"
     ]
    }
   ],
   "source": [
    "R = user_item_matrix.values\n",
    "user_ratings_mean = np.mean(R, axis=1)\n",
    "R_demeaned = R - user_ratings_mean.reshape(-1, 1)\n",
    "\n",
    "# SVD decomposition\n",
    "U, sigma, Vt = svds(R_demeaned, k=50)\n",
    "sigma = np.diag(sigma)\n",
    "\n",
    "# Reconstruct predictions\n",
    "svd_preds = np.dot(np.dot(U, sigma), Vt) + user_ratings_mean.reshape(-1, 1)\n",
    "svd_preds_df = pd.DataFrame(svd_preds, index=user_item_matrix.index, columns=user_item_matrix.columns)\n",
    "\n",
    "print(\"SVD done\")\n"
   ],
   "metadata": {
    "collapsed": false,
    "ExecuteTime": {
     "end_time": "2025-08-27T15:14:39.800233700Z",
     "start_time": "2025-08-27T15:14:38.612968900Z"
    }
   },
   "id": "806614e47ff765ad",
   "execution_count": 26
  },
  {
   "cell_type": "markdown",
   "source": [
    "## Evaluation Function"
   ],
   "metadata": {
    "collapsed": false
   },
   "id": "d0e24a9017cfddc4"
  },
  {
   "cell_type": "code",
   "outputs": [],
   "source": [
    "def evaluate_model(pred_matrix, test_df, model_name, k=10):\n",
    "    preds, trues = [], []\n",
    "    for row in test_df.itertuples():\n",
    "        if row.user_id in pred_matrix.index and row.item_id in pred_matrix.columns:\n",
    "            val = pred_matrix.loc[row.user_id, row.item_id]\n",
    "            if not np.isnan(val):   # skip NaNs\n",
    "                preds.append(val)\n",
    "                trues.append(row.rating)\n",
    "\n",
    "    # Safety check: if no predictions collected\n",
    "    if len(preds) == 0:\n",
    "        return [model_name, np.nan, np.nan, np.nan, np.nan, np.nan]\n",
    "\n",
    "    rmse, mae = get_rmse_mae(trues, preds)\n",
    "    p, r, f1 = precision_recall_at_k(pred_matrix, test_df, k)\n",
    "    return [model_name, rmse, mae, p, r, f1]\n"
   ],
   "metadata": {
    "collapsed": false,
    "ExecuteTime": {
     "end_time": "2025-08-27T15:16:54.714793800Z",
     "start_time": "2025-08-27T15:16:54.692730700Z"
    }
   },
   "id": "28e8623b71e008",
   "execution_count": 29
  },
  {
   "cell_type": "markdown",
   "source": [
    "## Compare All Models"
   ],
   "metadata": {
    "collapsed": false
   },
   "id": "e47eeb98ed722e68"
  },
  {
   "cell_type": "code",
   "outputs": [
    {
     "name": "stdout",
     "output_type": "stream",
     "text": [
      "\n",
      "=== Evaluation Results ===\n",
      "                        Model      RMSE       MAE  Precision@10  Recall@10  \\\n",
      "0               User-Based CF  2.907783  2.698149      0.091413   0.117625   \n",
      "1               Item-Based CF  3.160830  2.936643      0.004674   0.005297   \n",
      "2  Matrix Factorization (SVD)  2.878510  2.610553      0.021848   0.051414   \n",
      "\n",
      "      F1@10  \n",
      "0  0.102876  \n",
      "1  0.004966  \n",
      "2  0.030665  \n"
     ]
    }
   ],
   "source": [
    "results = []\n",
    "results.append(evaluate_model(user_based_preds, test, \"User-Based CF\"))\n",
    "results.append(evaluate_model(item_based_preds, test, \"Item-Based CF\"))\n",
    "results.append(evaluate_model(svd_preds_df, test, \"Matrix Factorization (SVD)\"))\n",
    "\n",
    "results_df = pd.DataFrame(results, columns=[\"Model\", \"RMSE\", \"MAE\", \"Precision@10\", \"Recall@10\", \"F1@10\"])\n",
    "print(\"\\n=== Evaluation Results ===\")\n",
    "print(results_df)\n"
   ],
   "metadata": {
    "collapsed": false,
    "ExecuteTime": {
     "end_time": "2025-08-27T15:17:01.875905300Z",
     "start_time": "2025-08-27T15:16:56.987208200Z"
    }
   },
   "id": "aedd1cc3a79f6cde",
   "execution_count": 30
  }
 ],
 "metadata": {
  "kernelspec": {
   "display_name": "Python 3",
   "language": "python",
   "name": "python3"
  },
  "language_info": {
   "codemirror_mode": {
    "name": "ipython",
    "version": 2
   },
   "file_extension": ".py",
   "mimetype": "text/x-python",
   "name": "python",
   "nbconvert_exporter": "python",
   "pygments_lexer": "ipython2",
   "version": "2.7.6"
  }
 },
 "nbformat": 4,
 "nbformat_minor": 5
}
