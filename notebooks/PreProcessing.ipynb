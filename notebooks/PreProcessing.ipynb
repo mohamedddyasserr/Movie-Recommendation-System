{
 "cells": [
  {
   "cell_type": "markdown",
   "source": [
    "# PreProcessing\n",
    "\n",
    "## Imports"
   ],
   "metadata": {
    "collapsed": false
   },
   "id": "6cadf3b16380c83"
  },
  {
   "cell_type": "code",
   "execution_count": 1,
   "id": "initial_id",
   "metadata": {
    "collapsed": true,
    "ExecuteTime": {
     "end_time": "2025-08-27T14:22:12.323313500Z",
     "start_time": "2025-08-27T14:22:08.896422500Z"
    }
   },
   "outputs": [],
   "source": [
    "import pandas as pd\n",
    "from pathlib import Path\n"
   ]
  },
  {
   "cell_type": "markdown",
   "source": [
    "## Load Merged Dataset"
   ],
   "metadata": {
    "collapsed": false
   },
   "id": "4b68c84ce05a7955"
  },
  {
   "cell_type": "code",
   "outputs": [
    {
     "data": {
      "text/plain": "   user_id  item_id  rating  timestamp                       title  age  \\\n0      196      242       3  881250949                Kolya (1996)   49   \n1      186      302       3  891717742    L.A. Confidential (1997)   39   \n2       22      377       1  878887116         Heavyweights (1994)   25   \n3      244       51       2  880606923  Legends of the Fall (1994)   28   \n4      166      346       1  886397596         Jackie Brown (1997)   47   \n\n  gender  occupation zip_code  \n0      M      writer    55105  \n1      F   executive    00000  \n2      M      writer    40206  \n3      M  technician    80525  \n4      M    educator    55113  ",
      "text/html": "<div>\n<style scoped>\n    .dataframe tbody tr th:only-of-type {\n        vertical-align: middle;\n    }\n\n    .dataframe tbody tr th {\n        vertical-align: top;\n    }\n\n    .dataframe thead th {\n        text-align: right;\n    }\n</style>\n<table border=\"1\" class=\"dataframe\">\n  <thead>\n    <tr style=\"text-align: right;\">\n      <th></th>\n      <th>user_id</th>\n      <th>item_id</th>\n      <th>rating</th>\n      <th>timestamp</th>\n      <th>title</th>\n      <th>age</th>\n      <th>gender</th>\n      <th>occupation</th>\n      <th>zip_code</th>\n    </tr>\n  </thead>\n  <tbody>\n    <tr>\n      <th>0</th>\n      <td>196</td>\n      <td>242</td>\n      <td>3</td>\n      <td>881250949</td>\n      <td>Kolya (1996)</td>\n      <td>49</td>\n      <td>M</td>\n      <td>writer</td>\n      <td>55105</td>\n    </tr>\n    <tr>\n      <th>1</th>\n      <td>186</td>\n      <td>302</td>\n      <td>3</td>\n      <td>891717742</td>\n      <td>L.A. Confidential (1997)</td>\n      <td>39</td>\n      <td>F</td>\n      <td>executive</td>\n      <td>00000</td>\n    </tr>\n    <tr>\n      <th>2</th>\n      <td>22</td>\n      <td>377</td>\n      <td>1</td>\n      <td>878887116</td>\n      <td>Heavyweights (1994)</td>\n      <td>25</td>\n      <td>M</td>\n      <td>writer</td>\n      <td>40206</td>\n    </tr>\n    <tr>\n      <th>3</th>\n      <td>244</td>\n      <td>51</td>\n      <td>2</td>\n      <td>880606923</td>\n      <td>Legends of the Fall (1994)</td>\n      <td>28</td>\n      <td>M</td>\n      <td>technician</td>\n      <td>80525</td>\n    </tr>\n    <tr>\n      <th>4</th>\n      <td>166</td>\n      <td>346</td>\n      <td>1</td>\n      <td>886397596</td>\n      <td>Jackie Brown (1997)</td>\n      <td>47</td>\n      <td>M</td>\n      <td>educator</td>\n      <td>55113</td>\n    </tr>\n  </tbody>\n</table>\n</div>"
     },
     "execution_count": 2,
     "metadata": {},
     "output_type": "execute_result"
    }
   ],
   "source": [
    "# --- Load merged dataset from previous notebook ---\n",
    "raw_data_dir = Path(\"raw_data\")\n",
    "processed_data_dir = Path(\"processed_data\")\n",
    "\n",
    "# Reload datasets (or ideally, save full_data as a CSV in 01_data_setup)\n",
    "ratings = pd.read_csv(\n",
    "    raw_data_dir / \"u.data\",\n",
    "    sep=\"\\t\",\n",
    "    names=[\"user_id\", \"item_id\", \"rating\", \"timestamp\"]\n",
    ")\n",
    "\n",
    "movies = pd.read_csv(\n",
    "    raw_data_dir / \"u.item\",\n",
    "    sep=\"|\",\n",
    "    encoding=\"latin-1\",\n",
    "    header=None,\n",
    "    usecols=[0, 1],\n",
    "    names=[\"item_id\", \"title\"]\n",
    ")\n",
    "\n",
    "users = pd.read_csv(\n",
    "    raw_data_dir / \"u.user\",\n",
    "    sep=\"|\",\n",
    "    encoding=\"latin-1\",\n",
    "    header=None,\n",
    "    names=[\"user_id\", \"age\", \"gender\", \"occupation\", \"zip_code\"]\n",
    ")\n",
    "\n",
    "# Merge again\n",
    "ratings_movies = ratings.merge(movies, on=\"item_id\")\n",
    "full_data = ratings_movies.merge(users, on=\"user_id\")\n",
    "\n",
    "full_data.head()\n"
   ],
   "metadata": {
    "collapsed": false,
    "ExecuteTime": {
     "end_time": "2025-08-27T14:22:32.313345300Z",
     "start_time": "2025-08-27T14:22:32.032643200Z"
    }
   },
   "id": "9bf163f441327777",
   "execution_count": 2
  },
  {
   "cell_type": "markdown",
   "source": [
    "## Drop Unnecessary Columns"
   ],
   "metadata": {
    "collapsed": false
   },
   "id": "1c2022a72f2e44a6"
  },
  {
   "cell_type": "code",
   "outputs": [
    {
     "data": {
      "text/plain": "   user_id  item_id  rating                       title  age gender  \\\n0      196      242       3                Kolya (1996)   49      M   \n1      186      302       3    L.A. Confidential (1997)   39      F   \n2       22      377       1         Heavyweights (1994)   25      M   \n3      244       51       2  Legends of the Fall (1994)   28      M   \n4      166      346       1         Jackie Brown (1997)   47      M   \n\n   occupation  \n0      writer  \n1   executive  \n2      writer  \n3  technician  \n4    educator  ",
      "text/html": "<div>\n<style scoped>\n    .dataframe tbody tr th:only-of-type {\n        vertical-align: middle;\n    }\n\n    .dataframe tbody tr th {\n        vertical-align: top;\n    }\n\n    .dataframe thead th {\n        text-align: right;\n    }\n</style>\n<table border=\"1\" class=\"dataframe\">\n  <thead>\n    <tr style=\"text-align: right;\">\n      <th></th>\n      <th>user_id</th>\n      <th>item_id</th>\n      <th>rating</th>\n      <th>title</th>\n      <th>age</th>\n      <th>gender</th>\n      <th>occupation</th>\n    </tr>\n  </thead>\n  <tbody>\n    <tr>\n      <th>0</th>\n      <td>196</td>\n      <td>242</td>\n      <td>3</td>\n      <td>Kolya (1996)</td>\n      <td>49</td>\n      <td>M</td>\n      <td>writer</td>\n    </tr>\n    <tr>\n      <th>1</th>\n      <td>186</td>\n      <td>302</td>\n      <td>3</td>\n      <td>L.A. Confidential (1997)</td>\n      <td>39</td>\n      <td>F</td>\n      <td>executive</td>\n    </tr>\n    <tr>\n      <th>2</th>\n      <td>22</td>\n      <td>377</td>\n      <td>1</td>\n      <td>Heavyweights (1994)</td>\n      <td>25</td>\n      <td>M</td>\n      <td>writer</td>\n    </tr>\n    <tr>\n      <th>3</th>\n      <td>244</td>\n      <td>51</td>\n      <td>2</td>\n      <td>Legends of the Fall (1994)</td>\n      <td>28</td>\n      <td>M</td>\n      <td>technician</td>\n    </tr>\n    <tr>\n      <th>4</th>\n      <td>166</td>\n      <td>346</td>\n      <td>1</td>\n      <td>Jackie Brown (1997)</td>\n      <td>47</td>\n      <td>M</td>\n      <td>educator</td>\n    </tr>\n  </tbody>\n</table>\n</div>"
     },
     "execution_count": 3,
     "metadata": {},
     "output_type": "execute_result"
    }
   ],
   "source": [
    "data = full_data.drop(columns=[\"timestamp\", \"zip_code\"])\n",
    "\n",
    "data.head()\n"
   ],
   "metadata": {
    "collapsed": false,
    "ExecuteTime": {
     "end_time": "2025-08-27T14:24:53.345932Z",
     "start_time": "2025-08-27T14:24:53.211623600Z"
    }
   },
   "id": "c8f22ea852ffc678",
   "execution_count": 3
  },
  {
   "cell_type": "markdown",
   "source": [
    "## Handle Missing Values"
   ],
   "metadata": {
    "collapsed": false
   },
   "id": "23d3b91a02a1f0bf"
  },
  {
   "cell_type": "code",
   "outputs": [
    {
     "name": "stdout",
     "output_type": "stream",
     "text": [
      "user_id       0\n",
      "item_id       0\n",
      "rating        0\n",
      "title         0\n",
      "age           0\n",
      "gender        0\n",
      "occupation    0\n",
      "dtype: int64\n"
     ]
    }
   ],
   "source": [
    "print(data.isnull().sum())\n",
    "\n",
    "# MovieLens 100k dataset should have no NaN, but if so, drop them\n",
    "data = data.dropna()\n"
   ],
   "metadata": {
    "collapsed": false,
    "ExecuteTime": {
     "end_time": "2025-08-27T14:25:42.222316900Z",
     "start_time": "2025-08-27T14:25:42.181140600Z"
    }
   },
   "id": "1cf9322c061f811e",
   "execution_count": 4
  },
  {
   "cell_type": "markdown",
   "source": [
    "## Encode Categorical Features"
   ],
   "metadata": {
    "collapsed": false
   },
   "id": "c199111635aaffa2"
  },
  {
   "cell_type": "code",
   "outputs": [
    {
     "data": {
      "text/plain": "   user_id  item_id  rating                       title  age  gender  \\\n0      196      242       3                Kolya (1996)   49       0   \n1      186      302       3    L.A. Confidential (1997)   39       1   \n2       22      377       1         Heavyweights (1994)   25       0   \n3      244       51       2  Legends of the Fall (1994)   28       0   \n4      166      346       1         Jackie Brown (1997)   47       0   \n\n   occupation  \n0          20  \n1           6  \n2          20  \n3          19  \n4           3  ",
      "text/html": "<div>\n<style scoped>\n    .dataframe tbody tr th:only-of-type {\n        vertical-align: middle;\n    }\n\n    .dataframe tbody tr th {\n        vertical-align: top;\n    }\n\n    .dataframe thead th {\n        text-align: right;\n    }\n</style>\n<table border=\"1\" class=\"dataframe\">\n  <thead>\n    <tr style=\"text-align: right;\">\n      <th></th>\n      <th>user_id</th>\n      <th>item_id</th>\n      <th>rating</th>\n      <th>title</th>\n      <th>age</th>\n      <th>gender</th>\n      <th>occupation</th>\n    </tr>\n  </thead>\n  <tbody>\n    <tr>\n      <th>0</th>\n      <td>196</td>\n      <td>242</td>\n      <td>3</td>\n      <td>Kolya (1996)</td>\n      <td>49</td>\n      <td>0</td>\n      <td>20</td>\n    </tr>\n    <tr>\n      <th>1</th>\n      <td>186</td>\n      <td>302</td>\n      <td>3</td>\n      <td>L.A. Confidential (1997)</td>\n      <td>39</td>\n      <td>1</td>\n      <td>6</td>\n    </tr>\n    <tr>\n      <th>2</th>\n      <td>22</td>\n      <td>377</td>\n      <td>1</td>\n      <td>Heavyweights (1994)</td>\n      <td>25</td>\n      <td>0</td>\n      <td>20</td>\n    </tr>\n    <tr>\n      <th>3</th>\n      <td>244</td>\n      <td>51</td>\n      <td>2</td>\n      <td>Legends of the Fall (1994)</td>\n      <td>28</td>\n      <td>0</td>\n      <td>19</td>\n    </tr>\n    <tr>\n      <th>4</th>\n      <td>166</td>\n      <td>346</td>\n      <td>1</td>\n      <td>Jackie Brown (1997)</td>\n      <td>47</td>\n      <td>0</td>\n      <td>3</td>\n    </tr>\n  </tbody>\n</table>\n</div>"
     },
     "execution_count": 5,
     "metadata": {},
     "output_type": "execute_result"
    }
   ],
   "source": [
    "# --- Encode gender (M/F → 0/1) ---\n",
    "data[\"gender\"] = data[\"gender\"].map({\"M\": 0, \"F\": 1})\n",
    "\n",
    "# --- Encode occupation ---\n",
    "data[\"occupation\"] = data[\"occupation\"].astype(\"category\").cat.codes\n",
    "\n",
    "data.head()\n"
   ],
   "metadata": {
    "collapsed": false,
    "ExecuteTime": {
     "end_time": "2025-08-27T14:26:23.265317800Z",
     "start_time": "2025-08-27T14:26:22.790602800Z"
    }
   },
   "id": "2e98e61580476132",
   "execution_count": 5
  },
  {
   "cell_type": "markdown",
   "source": [
    "## Save Processed Dataset"
   ],
   "metadata": {
    "collapsed": false
   },
   "id": "6859c914b5df108"
  },
  {
   "cell_type": "code",
   "outputs": [
    {
     "name": "stdout",
     "output_type": "stream",
     "text": [
      "✔️ Processed dataset saved to: processed_data\\movielens_processed.csv\n"
     ]
    }
   ],
   "source": [
    "processed_file = processed_data_dir / \"movielens_processed.csv\"\n",
    "data.to_csv(processed_file, index=False)\n",
    "\n",
    "print(\"✔️ Processed dataset saved to:\", processed_file)\n"
   ],
   "metadata": {
    "collapsed": false,
    "ExecuteTime": {
     "end_time": "2025-08-27T14:27:13.910239900Z",
     "start_time": "2025-08-27T14:27:13.595223900Z"
    }
   },
   "id": "9a9640c3deeaab39",
   "execution_count": 6
  },
  {
   "cell_type": "markdown",
   "source": [
    "## Quick Check"
   ],
   "metadata": {
    "collapsed": false
   },
   "id": "a7c70f70793c7ec1"
  },
  {
   "cell_type": "code",
   "outputs": [
    {
     "data": {
      "text/plain": "   user_id  item_id  rating                       title  age  gender  \\\n0      196      242       3                Kolya (1996)   49       0   \n1      186      302       3    L.A. Confidential (1997)   39       1   \n2       22      377       1         Heavyweights (1994)   25       0   \n3      244       51       2  Legends of the Fall (1994)   28       0   \n4      166      346       1         Jackie Brown (1997)   47       0   \n\n   occupation  \n0          20  \n1           6  \n2          20  \n3          19  \n4           3  ",
      "text/html": "<div>\n<style scoped>\n    .dataframe tbody tr th:only-of-type {\n        vertical-align: middle;\n    }\n\n    .dataframe tbody tr th {\n        vertical-align: top;\n    }\n\n    .dataframe thead th {\n        text-align: right;\n    }\n</style>\n<table border=\"1\" class=\"dataframe\">\n  <thead>\n    <tr style=\"text-align: right;\">\n      <th></th>\n      <th>user_id</th>\n      <th>item_id</th>\n      <th>rating</th>\n      <th>title</th>\n      <th>age</th>\n      <th>gender</th>\n      <th>occupation</th>\n    </tr>\n  </thead>\n  <tbody>\n    <tr>\n      <th>0</th>\n      <td>196</td>\n      <td>242</td>\n      <td>3</td>\n      <td>Kolya (1996)</td>\n      <td>49</td>\n      <td>0</td>\n      <td>20</td>\n    </tr>\n    <tr>\n      <th>1</th>\n      <td>186</td>\n      <td>302</td>\n      <td>3</td>\n      <td>L.A. Confidential (1997)</td>\n      <td>39</td>\n      <td>1</td>\n      <td>6</td>\n    </tr>\n    <tr>\n      <th>2</th>\n      <td>22</td>\n      <td>377</td>\n      <td>1</td>\n      <td>Heavyweights (1994)</td>\n      <td>25</td>\n      <td>0</td>\n      <td>20</td>\n    </tr>\n    <tr>\n      <th>3</th>\n      <td>244</td>\n      <td>51</td>\n      <td>2</td>\n      <td>Legends of the Fall (1994)</td>\n      <td>28</td>\n      <td>0</td>\n      <td>19</td>\n    </tr>\n    <tr>\n      <th>4</th>\n      <td>166</td>\n      <td>346</td>\n      <td>1</td>\n      <td>Jackie Brown (1997)</td>\n      <td>47</td>\n      <td>0</td>\n      <td>3</td>\n    </tr>\n  </tbody>\n</table>\n</div>"
     },
     "execution_count": 7,
     "metadata": {},
     "output_type": "execute_result"
    }
   ],
   "source": [
    "# --- Verify processed dataset ---\n",
    "pd.read_csv(processed_file).head()\n"
   ],
   "metadata": {
    "collapsed": false,
    "ExecuteTime": {
     "end_time": "2025-08-27T14:27:40.882352400Z",
     "start_time": "2025-08-27T14:27:40.616460700Z"
    }
   },
   "id": "e7aef0d4286e5152",
   "execution_count": 7
  }
 ],
 "metadata": {
  "kernelspec": {
   "display_name": "Python 3",
   "language": "python",
   "name": "python3"
  },
  "language_info": {
   "codemirror_mode": {
    "name": "ipython",
    "version": 2
   },
   "file_extension": ".py",
   "mimetype": "text/x-python",
   "name": "python",
   "nbconvert_exporter": "python",
   "pygments_lexer": "ipython2",
   "version": "2.7.6"
  }
 },
 "nbformat": 4,
 "nbformat_minor": 5
}
