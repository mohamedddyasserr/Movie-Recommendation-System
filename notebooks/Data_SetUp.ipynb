{
 "cells": [
  {
   "cell_type": "markdown",
   "source": [
    "# Data SetUp\n",
    "\n",
    "## Imports"
   ],
   "metadata": {
    "collapsed": false
   },
   "id": "248669abd667daa5"
  },
  {
   "cell_type": "code",
   "execution_count": 12,
   "id": "initial_id",
   "metadata": {
    "collapsed": true,
    "ExecuteTime": {
     "end_time": "2025-08-27T14:06:10.468671900Z",
     "start_time": "2025-08-27T14:06:10.431264200Z"
    }
   },
   "outputs": [],
   "source": [
    "import os\n",
    "import shutil\n",
    "from pathlib import Path\n",
    "import kagglehub\n",
    "import pandas as pd"
   ]
  },
  {
   "cell_type": "markdown",
   "source": [
    "## Setup Directories & Dataset Download"
   ],
   "metadata": {
    "collapsed": false
   },
   "id": "87f062de618438ac"
  },
  {
   "cell_type": "code",
   "outputs": [
    {
     "name": "stdout",
     "output_type": "stream",
     "text": [
      " Dataset is already downloaded.\n"
     ]
    }
   ],
   "source": [
    "# --- Directories ---\n",
    "raw_data_dir = Path(\"raw_data\")\n",
    "processed_data_dir = Path(\"processed_data\")\n",
    "\n",
    "# Create directories if not exist\n",
    "raw_data_dir.mkdir(exist_ok=True)\n",
    "processed_data_dir.mkdir(exist_ok=True)\n",
    "\n",
    "# File path for raw dataset (main ratings file in MovieLens)\n",
    "raw_dataset = raw_data_dir / \"u.data\"\n",
    "\n",
    "# Check and download dataset if not already available\n",
    "if raw_dataset.exists():\n",
    "    print(\" Dataset is already downloaded.\")\n",
    "else:\n",
    "    dataset_path = Path(kagglehub.dataset_download(\"prajitdatta/movielens-100k-dataset\"))\n",
    "\n",
    "    if not dataset_path.exists():\n",
    "        raise FileNotFoundError(\"⚠ Dataset not found.\")\n",
    "\n",
    "    # Search inside subfolders and copy all relevant files\n",
    "    for item in dataset_path.rglob(\"*\"):\n",
    "        if item.is_file() and item.suffix in [\".csv\", \".data\", \".item\", \".user\", \".genre\"]:\n",
    "            target = raw_data_dir / item.name\n",
    "            shutil.copy2(item, target)\n",
    "\n",
    "    print(\" Dataset successfully downloaded to:\", raw_data_dir)\n"
   ],
   "metadata": {
    "collapsed": false,
    "ExecuteTime": {
     "end_time": "2025-08-27T14:05:14.261256100Z",
     "start_time": "2025-08-27T14:05:14.212373600Z"
    }
   },
   "id": "bc80bd3f63e8351c",
   "execution_count": 11
  },
  {
   "cell_type": "markdown",
   "source": [
    "## Verify Files"
   ],
   "metadata": {
    "collapsed": false
   },
   "id": "9266abfd6b9d7c11"
  },
  {
   "cell_type": "code",
   "outputs": [
    {
     "data": {
      "text/plain": "[WindowsPath('raw_data/u.data'),\n WindowsPath('raw_data/u.genre'),\n WindowsPath('raw_data/u.item'),\n WindowsPath('raw_data/u.user')]"
     },
     "execution_count": 10,
     "metadata": {},
     "output_type": "execute_result"
    }
   ],
   "source": [
    "# --- Inspect raw_data contents ---\n",
    "list(raw_data_dir.iterdir())\n"
   ],
   "metadata": {
    "collapsed": false,
    "ExecuteTime": {
     "end_time": "2025-08-27T14:04:42.835828200Z",
     "start_time": "2025-08-27T14:04:42.823601200Z"
    }
   },
   "id": "bb5f8c5e43f5365b",
   "execution_count": 10
  },
  {
   "cell_type": "markdown",
   "source": [
    "## Load Ratings Data"
   ],
   "metadata": {
    "collapsed": false
   },
   "id": "86594d27f2af7205"
  },
  {
   "cell_type": "code",
   "outputs": [
    {
     "data": {
      "text/plain": "   user_id  item_id  rating  timestamp\n0      196      242       3  881250949\n1      186      302       3  891717742\n2       22      377       1  878887116\n3      244       51       2  880606923\n4      166      346       1  886397596",
      "text/html": "<div>\n<style scoped>\n    .dataframe tbody tr th:only-of-type {\n        vertical-align: middle;\n    }\n\n    .dataframe tbody tr th {\n        vertical-align: top;\n    }\n\n    .dataframe thead th {\n        text-align: right;\n    }\n</style>\n<table border=\"1\" class=\"dataframe\">\n  <thead>\n    <tr style=\"text-align: right;\">\n      <th></th>\n      <th>user_id</th>\n      <th>item_id</th>\n      <th>rating</th>\n      <th>timestamp</th>\n    </tr>\n  </thead>\n  <tbody>\n    <tr>\n      <th>0</th>\n      <td>196</td>\n      <td>242</td>\n      <td>3</td>\n      <td>881250949</td>\n    </tr>\n    <tr>\n      <th>1</th>\n      <td>186</td>\n      <td>302</td>\n      <td>3</td>\n      <td>891717742</td>\n    </tr>\n    <tr>\n      <th>2</th>\n      <td>22</td>\n      <td>377</td>\n      <td>1</td>\n      <td>878887116</td>\n    </tr>\n    <tr>\n      <th>3</th>\n      <td>244</td>\n      <td>51</td>\n      <td>2</td>\n      <td>880606923</td>\n    </tr>\n    <tr>\n      <th>4</th>\n      <td>166</td>\n      <td>346</td>\n      <td>1</td>\n      <td>886397596</td>\n    </tr>\n  </tbody>\n</table>\n</div>"
     },
     "execution_count": 13,
     "metadata": {},
     "output_type": "execute_result"
    }
   ],
   "source": [
    "ratings_path = raw_data_dir / \"u.data\"\n",
    "\n",
    "# The MovieLens 100k dataset has no headers, we must add them\n",
    "ratings = pd.read_csv(\n",
    "    ratings_path,\n",
    "    sep=\"\\t\",\n",
    "    names=[\"user_id\", \"item_id\", \"rating\", \"timestamp\"]\n",
    ")\n",
    "\n",
    "ratings.head()\n"
   ],
   "metadata": {
    "collapsed": false,
    "ExecuteTime": {
     "end_time": "2025-08-27T14:07:52.889952500Z",
     "start_time": "2025-08-27T14:07:52.325145400Z"
    }
   },
   "id": "da22fdc7f835c1ab",
   "execution_count": 13
  },
  {
   "cell_type": "markdown",
   "source": [
    "## Load Movie Metadata"
   ],
   "metadata": {
    "collapsed": false
   },
   "id": "c8274cf13b139dc2"
  },
  {
   "cell_type": "code",
   "outputs": [
    {
     "data": {
      "text/plain": "   item_id              title\n0        1   Toy Story (1995)\n1        2   GoldenEye (1995)\n2        3  Four Rooms (1995)\n3        4  Get Shorty (1995)\n4        5     Copycat (1995)",
      "text/html": "<div>\n<style scoped>\n    .dataframe tbody tr th:only-of-type {\n        vertical-align: middle;\n    }\n\n    .dataframe tbody tr th {\n        vertical-align: top;\n    }\n\n    .dataframe thead th {\n        text-align: right;\n    }\n</style>\n<table border=\"1\" class=\"dataframe\">\n  <thead>\n    <tr style=\"text-align: right;\">\n      <th></th>\n      <th>item_id</th>\n      <th>title</th>\n    </tr>\n  </thead>\n  <tbody>\n    <tr>\n      <th>0</th>\n      <td>1</td>\n      <td>Toy Story (1995)</td>\n    </tr>\n    <tr>\n      <th>1</th>\n      <td>2</td>\n      <td>GoldenEye (1995)</td>\n    </tr>\n    <tr>\n      <th>2</th>\n      <td>3</td>\n      <td>Four Rooms (1995)</td>\n    </tr>\n    <tr>\n      <th>3</th>\n      <td>4</td>\n      <td>Get Shorty (1995)</td>\n    </tr>\n    <tr>\n      <th>4</th>\n      <td>5</td>\n      <td>Copycat (1995)</td>\n    </tr>\n  </tbody>\n</table>\n</div>"
     },
     "execution_count": 14,
     "metadata": {},
     "output_type": "execute_result"
    }
   ],
   "source": [
    "movies_path = raw_data_dir / \"u.item\"\n",
    "\n",
    "# MovieLens item file has '|' delimiter\n",
    "movies = pd.read_csv(\n",
    "    movies_path,\n",
    "    sep=\"|\",\n",
    "    encoding=\"latin-1\",\n",
    "    header=None,\n",
    "    usecols=[0, 1],\n",
    "    names=[\"item_id\", \"title\"]\n",
    ")\n",
    "\n",
    "movies.head()\n"
   ],
   "metadata": {
    "collapsed": false,
    "ExecuteTime": {
     "end_time": "2025-08-27T14:10:32.742696500Z",
     "start_time": "2025-08-27T14:10:32.597096300Z"
    }
   },
   "id": "deec4c71692c0639",
   "execution_count": 14
  },
  {
   "cell_type": "markdown",
   "source": [
    "## Load Users Data"
   ],
   "metadata": {
    "collapsed": false
   },
   "id": "73d504a25e3f7599"
  },
  {
   "cell_type": "code",
   "outputs": [
    {
     "data": {
      "text/plain": "   user_id  age gender  occupation zip_code\n0        1   24      M  technician    85711\n1        2   53      F       other    94043\n2        3   23      M      writer    32067\n3        4   24      M  technician    43537\n4        5   33      F       other    15213",
      "text/html": "<div>\n<style scoped>\n    .dataframe tbody tr th:only-of-type {\n        vertical-align: middle;\n    }\n\n    .dataframe tbody tr th {\n        vertical-align: top;\n    }\n\n    .dataframe thead th {\n        text-align: right;\n    }\n</style>\n<table border=\"1\" class=\"dataframe\">\n  <thead>\n    <tr style=\"text-align: right;\">\n      <th></th>\n      <th>user_id</th>\n      <th>age</th>\n      <th>gender</th>\n      <th>occupation</th>\n      <th>zip_code</th>\n    </tr>\n  </thead>\n  <tbody>\n    <tr>\n      <th>0</th>\n      <td>1</td>\n      <td>24</td>\n      <td>M</td>\n      <td>technician</td>\n      <td>85711</td>\n    </tr>\n    <tr>\n      <th>1</th>\n      <td>2</td>\n      <td>53</td>\n      <td>F</td>\n      <td>other</td>\n      <td>94043</td>\n    </tr>\n    <tr>\n      <th>2</th>\n      <td>3</td>\n      <td>23</td>\n      <td>M</td>\n      <td>writer</td>\n      <td>32067</td>\n    </tr>\n    <tr>\n      <th>3</th>\n      <td>4</td>\n      <td>24</td>\n      <td>M</td>\n      <td>technician</td>\n      <td>43537</td>\n    </tr>\n    <tr>\n      <th>4</th>\n      <td>5</td>\n      <td>33</td>\n      <td>F</td>\n      <td>other</td>\n      <td>15213</td>\n    </tr>\n  </tbody>\n</table>\n</div>"
     },
     "execution_count": 15,
     "metadata": {},
     "output_type": "execute_result"
    }
   ],
   "source": [
    "users_path = raw_data_dir / \"u.user\"\n",
    "\n",
    "users = pd.read_csv(\n",
    "    users_path,\n",
    "    sep=\"|\",\n",
    "    encoding=\"latin-1\",\n",
    "    header=None,\n",
    "    names=[\"user_id\", \"age\", \"gender\", \"occupation\", \"zip_code\"]\n",
    ")\n",
    "\n",
    "users.head()\n"
   ],
   "metadata": {
    "collapsed": false,
    "ExecuteTime": {
     "end_time": "2025-08-27T14:11:20.011136100Z",
     "start_time": "2025-08-27T14:11:19.819556600Z"
    }
   },
   "id": "39165d4f88d4d327",
   "execution_count": 15
  },
  {
   "cell_type": "markdown",
   "source": [
    "## Merge Datasets"
   ],
   "metadata": {
    "collapsed": false
   },
   "id": "83be05a2425a5d6f"
  },
  {
   "cell_type": "code",
   "outputs": [
    {
     "data": {
      "text/plain": "   user_id  item_id  rating  timestamp                       title  age  \\\n0      196      242       3  881250949                Kolya (1996)   49   \n1      186      302       3  891717742    L.A. Confidential (1997)   39   \n2       22      377       1  878887116         Heavyweights (1994)   25   \n3      244       51       2  880606923  Legends of the Fall (1994)   28   \n4      166      346       1  886397596         Jackie Brown (1997)   47   \n\n  gender  occupation zip_code  \n0      M      writer    55105  \n1      F   executive    00000  \n2      M      writer    40206  \n3      M  technician    80525  \n4      M    educator    55113  ",
      "text/html": "<div>\n<style scoped>\n    .dataframe tbody tr th:only-of-type {\n        vertical-align: middle;\n    }\n\n    .dataframe tbody tr th {\n        vertical-align: top;\n    }\n\n    .dataframe thead th {\n        text-align: right;\n    }\n</style>\n<table border=\"1\" class=\"dataframe\">\n  <thead>\n    <tr style=\"text-align: right;\">\n      <th></th>\n      <th>user_id</th>\n      <th>item_id</th>\n      <th>rating</th>\n      <th>timestamp</th>\n      <th>title</th>\n      <th>age</th>\n      <th>gender</th>\n      <th>occupation</th>\n      <th>zip_code</th>\n    </tr>\n  </thead>\n  <tbody>\n    <tr>\n      <th>0</th>\n      <td>196</td>\n      <td>242</td>\n      <td>3</td>\n      <td>881250949</td>\n      <td>Kolya (1996)</td>\n      <td>49</td>\n      <td>M</td>\n      <td>writer</td>\n      <td>55105</td>\n    </tr>\n    <tr>\n      <th>1</th>\n      <td>186</td>\n      <td>302</td>\n      <td>3</td>\n      <td>891717742</td>\n      <td>L.A. Confidential (1997)</td>\n      <td>39</td>\n      <td>F</td>\n      <td>executive</td>\n      <td>00000</td>\n    </tr>\n    <tr>\n      <th>2</th>\n      <td>22</td>\n      <td>377</td>\n      <td>1</td>\n      <td>878887116</td>\n      <td>Heavyweights (1994)</td>\n      <td>25</td>\n      <td>M</td>\n      <td>writer</td>\n      <td>40206</td>\n    </tr>\n    <tr>\n      <th>3</th>\n      <td>244</td>\n      <td>51</td>\n      <td>2</td>\n      <td>880606923</td>\n      <td>Legends of the Fall (1994)</td>\n      <td>28</td>\n      <td>M</td>\n      <td>technician</td>\n      <td>80525</td>\n    </tr>\n    <tr>\n      <th>4</th>\n      <td>166</td>\n      <td>346</td>\n      <td>1</td>\n      <td>886397596</td>\n      <td>Jackie Brown (1997)</td>\n      <td>47</td>\n      <td>M</td>\n      <td>educator</td>\n      <td>55113</td>\n    </tr>\n  </tbody>\n</table>\n</div>"
     },
     "execution_count": 16,
     "metadata": {},
     "output_type": "execute_result"
    }
   ],
   "source": [
    "ratings_movies = ratings.merge(movies, on=\"item_id\")\n",
    "full_data = ratings_movies.merge(users, on=\"user_id\")\n",
    "\n",
    "full_data.head()\n"
   ],
   "metadata": {
    "collapsed": false,
    "ExecuteTime": {
     "end_time": "2025-08-27T14:12:38.304780700Z",
     "start_time": "2025-08-27T14:12:38.002444900Z"
    }
   },
   "id": "f5bfafbf3325842f",
   "execution_count": 16
  },
  {
   "cell_type": "markdown",
   "source": [
    "## Basic Exploration"
   ],
   "metadata": {
    "collapsed": false
   },
   "id": "71292acdb92c2d13"
  },
  {
   "cell_type": "code",
   "outputs": [
    {
     "name": "stdout",
     "output_type": "stream",
     "text": [
      "Number of ratings: 100000\n",
      "Number of users: 943\n",
      "Number of movies: 1682\n",
      "<class 'pandas.core.frame.DataFrame'>\n",
      "RangeIndex: 100000 entries, 0 to 99999\n",
      "Data columns (total 9 columns):\n",
      " #   Column      Non-Null Count   Dtype \n",
      "---  ------      --------------   ----- \n",
      " 0   user_id     100000 non-null  int64 \n",
      " 1   item_id     100000 non-null  int64 \n",
      " 2   rating      100000 non-null  int64 \n",
      " 3   timestamp   100000 non-null  int64 \n",
      " 4   title       100000 non-null  object\n",
      " 5   age         100000 non-null  int64 \n",
      " 6   gender      100000 non-null  object\n",
      " 7   occupation  100000 non-null  object\n",
      " 8   zip_code    100000 non-null  object\n",
      "dtypes: int64(5), object(4)\n",
      "memory usage: 6.9+ MB\n"
     ]
    }
   ],
   "source": [
    "print(\"Number of ratings:\", len(ratings))\n",
    "print(\"Number of users:\", ratings['user_id'].nunique())\n",
    "print(\"Number of movies:\", ratings['item_id'].nunique())\n",
    "\n",
    "full_data.info()\n"
   ],
   "metadata": {
    "collapsed": false,
    "ExecuteTime": {
     "end_time": "2025-08-27T14:14:07.623663600Z",
     "start_time": "2025-08-27T14:14:07.423411800Z"
    }
   },
   "id": "a75ee063b95f4a0a",
   "execution_count": 17
  },
  {
   "cell_type": "markdown",
   "source": [
    "## Save merged dataset"
   ],
   "metadata": {
    "collapsed": false
   },
   "id": "2e031d8fbe3ad298"
  },
  {
   "cell_type": "code",
   "outputs": [
    {
     "name": "stdout",
     "output_type": "stream",
     "text": [
      "✔️ Merged dataset saved to: processed_data\\merged_ratings.csv\n"
     ]
    }
   ],
   "source": [
    "processed_data_dir = Path(\"processed_data\")\n",
    "processed_data_dir.mkdir(exist_ok=True)\n",
    "\n",
    "merged_path = processed_data_dir / \"merged_ratings.csv\"\n",
    "full_data.to_csv(merged_path, index=False)\n",
    "print(\"✔️ Merged dataset saved to:\", merged_path)\n"
   ],
   "metadata": {
    "collapsed": false,
    "ExecuteTime": {
     "end_time": "2025-08-27T14:41:34.952637200Z",
     "start_time": "2025-08-27T14:41:34.249162900Z"
    }
   },
   "id": "75393b551f63dbff",
   "execution_count": 18
  }
 ],
 "metadata": {
  "kernelspec": {
   "display_name": "Python 3",
   "language": "python",
   "name": "python3"
  },
  "language_info": {
   "codemirror_mode": {
    "name": "ipython",
    "version": 2
   },
   "file_extension": ".py",
   "mimetype": "text/x-python",
   "name": "python",
   "nbconvert_exporter": "python",
   "pygments_lexer": "ipython2",
   "version": "2.7.6"
  }
 },
 "nbformat": 4,
 "nbformat_minor": 5
}
